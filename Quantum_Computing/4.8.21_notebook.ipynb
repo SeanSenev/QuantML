{
 "cells": [
  {
   "cell_type": "code",
   "execution_count": 1,
   "metadata": {
    "jupyter": {
     "outputs_hidden": false,
     "source_hidden": false
    },
    "nteract": {
     "transient": {
      "deleting": false
     }
    }
   },
   "outputs": [
    {
     "name": "stdout",
     "output_type": "stream",
     "text": [
      "Collecting yfinance\n",
      "  Downloading yfinance-0.1.59.tar.gz (25 kB)\n",
      "Collecting pandas>=0.24\n",
      "  Downloading pandas-1.2.3-cp37-cp37m-manylinux1_x86_64.whl (9.9 MB)\n",
      "\u001b[K     |████████████████████████████████| 9.9 MB 7.2 MB/s eta 0:00:01\n",
      "\u001b[?25hCollecting numpy>=1.15\n",
      "  Downloading numpy-1.20.2-cp37-cp37m-manylinux2010_x86_64.whl (15.3 MB)\n",
      "\u001b[K     |████████████████████████████████| 15.3 MB 64.1 MB/s eta 0:00:01\n",
      "\u001b[?25hRequirement already satisfied: requests>=2.20 in /srv/conda/envs/notebook/lib/python3.7/site-packages (from yfinance) (2.25.1)\n",
      "Collecting multitasking>=0.0.7\n",
      "  Downloading multitasking-0.0.9.tar.gz (8.1 kB)\n",
      "Collecting lxml>=4.5.1\n",
      "  Downloading lxml-4.6.3-cp37-cp37m-manylinux1_x86_64.whl (5.5 MB)\n",
      "\u001b[K     |████████████████████████████████| 5.5 MB 73.1 MB/s eta 0:00:01\n",
      "\u001b[?25hRequirement already satisfied: pytz>=2017.3 in /srv/conda/envs/notebook/lib/python3.7/site-packages (from pandas>=0.24->yfinance) (2021.1)\n",
      "Requirement already satisfied: python-dateutil>=2.7.3 in /srv/conda/envs/notebook/lib/python3.7/site-packages (from pandas>=0.24->yfinance) (2.8.1)\n",
      "Requirement already satisfied: six>=1.5 in /srv/conda/envs/notebook/lib/python3.7/site-packages (from python-dateutil>=2.7.3->pandas>=0.24->yfinance) (1.15.0)\n",
      "Requirement already satisfied: urllib3<1.27,>=1.21.1 in /srv/conda/envs/notebook/lib/python3.7/site-packages (from requests>=2.20->yfinance) (1.26.3)\n",
      "Requirement already satisfied: idna<3,>=2.5 in /srv/conda/envs/notebook/lib/python3.7/site-packages (from requests>=2.20->yfinance) (2.10)\n",
      "Requirement already satisfied: certifi>=2017.4.17 in /srv/conda/envs/notebook/lib/python3.7/site-packages (from requests>=2.20->yfinance) (2020.12.5)\n",
      "Requirement already satisfied: chardet<5,>=3.0.2 in /srv/conda/envs/notebook/lib/python3.7/site-packages (from requests>=2.20->yfinance) (4.0.0)\n",
      "Building wheels for collected packages: yfinance, multitasking\n",
      "  Building wheel for yfinance (setup.py) ... \u001b[?25ldone\n",
      "\u001b[?25h  Created wheel for yfinance: filename=yfinance-0.1.59-py2.py3-none-any.whl size=23442 sha256=4e8984d23dd1dc91133b22cd2c0d4c72c5eb5af0342f6dc0d9ed803906d4ed47\n",
      "  Stored in directory: /home/jovyan/.cache/pip/wheels/26/af/8b/fac1b47dffef567f945641cdc9b67bb25fae5725d462a8cf81\n",
      "  Building wheel for multitasking (setup.py) ... \u001b[?25ldone\n",
      "\u001b[?25h  Created wheel for multitasking: filename=multitasking-0.0.9-py3-none-any.whl size=8368 sha256=fbfc0a88e04fd5be7dee2ef86c7b54fd2f537543718879072d9ea05bc6015328\n",
      "  Stored in directory: /home/jovyan/.cache/pip/wheels/ae/25/47/4d68431a7ec1b6c4b5233365934b74c1d4e665bf5f968d363a\n",
      "Successfully built yfinance multitasking\n",
      "Installing collected packages: numpy, pandas, multitasking, lxml, yfinance\n",
      "Successfully installed lxml-4.6.3 multitasking-0.0.9 numpy-1.20.2 pandas-1.2.3 yfinance-0.1.59\n",
      "Collecting PyPortfolioOpt\n",
      "  Downloading PyPortfolioOpt-1.4.1-py3-none-any.whl (56 kB)\n",
      "\u001b[K     |████████████████████████████████| 56 kB 1.9 MB/s eta 0:00:011\n",
      "\u001b[?25hRequirement already satisfied: numpy<2.0,>=1.12 in /srv/conda/envs/notebook/lib/python3.7/site-packages (from PyPortfolioOpt) (1.20.2)\n",
      "Collecting scipy<2.0,>=1.3\n",
      "  Downloading scipy-1.6.2-cp37-cp37m-manylinux1_x86_64.whl (27.4 MB)\n",
      "\u001b[K     |████████████████████████████████| 27.4 MB 4.4 MB/s eta 0:00:01\n",
      "\u001b[?25hRequirement already satisfied: pandas>=0.19 in /srv/conda/envs/notebook/lib/python3.7/site-packages (from PyPortfolioOpt) (1.2.3)\n",
      "Collecting cvxpy<2.0.0,>=1.1.10\n",
      "  Downloading cvxpy-1.1.12.tar.gz (1.3 MB)\n",
      "\u001b[K     |████████████████████████████████| 1.3 MB 42.2 MB/s eta 0:00:01\n",
      "\u001b[?25h  Installing build dependencies ... \u001b[?25ldone\n",
      "\u001b[?25h  Getting requirements to build wheel ... \u001b[?25ldone\n",
      "\u001b[?25h    Preparing wheel metadata ... \u001b[?25ldone\n",
      "\u001b[?25hCollecting ecos>=2\n",
      "  Downloading ecos-2.0.7.post1-cp37-cp37m-manylinux1_x86_64.whl (147 kB)\n",
      "\u001b[K     |████████████████████████████████| 147 kB 15.9 MB/s eta 0:00:01\n",
      "\u001b[?25hCollecting scs>=1.1.6\n",
      "  Downloading scs-2.1.2.tar.gz (3.5 MB)\n",
      "\u001b[K     |████████████████████████████████| 3.5 MB 51.5 MB/s eta 0:00:01\n",
      "\u001b[?25hCollecting osqp>=0.4.1\n",
      "  Downloading osqp-0.6.2.post0-cp37-cp37m-manylinux2014_x86_64.whl (212 kB)\n",
      "\u001b[K     |████████████████████████████████| 212 kB 74.8 MB/s eta 0:00:01\n",
      "\u001b[?25hCollecting qdldl\n",
      "  Downloading qdldl-0.1.5.post0-cp37-cp37m-manylinux2014_x86_64.whl (941 kB)\n",
      "\u001b[K     |████████████████████████████████| 941 kB 34.8 MB/s eta 0:00:01\n",
      "\u001b[?25hRequirement already satisfied: pytz>=2017.3 in /srv/conda/envs/notebook/lib/python3.7/site-packages (from pandas>=0.19->PyPortfolioOpt) (2021.1)\n",
      "Requirement already satisfied: python-dateutil>=2.7.3 in /srv/conda/envs/notebook/lib/python3.7/site-packages (from pandas>=0.19->PyPortfolioOpt) (2.8.1)\n",
      "Requirement already satisfied: six>=1.5 in /srv/conda/envs/notebook/lib/python3.7/site-packages (from python-dateutil>=2.7.3->pandas>=0.19->PyPortfolioOpt) (1.15.0)\n",
      "Building wheels for collected packages: cvxpy, scs\n",
      "  Building wheel for cvxpy (PEP 517) ... \u001b[?25ldone\n",
      "\u001b[?25h  Created wheel for cvxpy: filename=cvxpy-1.1.12-cp37-cp37m-linux_x86_64.whl size=2733176 sha256=71b9410a80b80d75cea0cefdeb2e2778ac9692e62e525db3ff3aedc80a50c22e\n",
      "  Stored in directory: /home/jovyan/.cache/pip/wheels/0c/c5/a5/bd7a06743cd4504096d9690d8c3e1ac21dfaec5b222aa6cb39\n",
      "  Building wheel for scs (setup.py) ... \u001b[?25ldone\n",
      "\u001b[?25h  Created wheel for scs: filename=scs-2.1.2-cp37-cp37m-linux_x86_64.whl size=501902 sha256=f9842ac11a6f1cd4ba9452613b0d53d058c171cf5ed140b3610d0de79d11eea0\n",
      "  Stored in directory: /home/jovyan/.cache/pip/wheels/bc/e9/2d/41c52bfaefbbbee5b3c6c189e168039f6ac9b40fa2e14fe96d\n",
      "Successfully built cvxpy scs\n",
      "Installing collected packages: scipy, qdldl, scs, osqp, ecos, cvxpy, PyPortfolioOpt\n",
      "Successfully installed PyPortfolioOpt-1.4.1 cvxpy-1.1.12 ecos-2.0.7.post1 osqp-0.6.2.post0 qdldl-0.1.5.post0 scipy-1.6.2 scs-2.1.2\n",
      "Collecting cvxopt\n",
      "  Downloading cvxopt-1.2.6-cp37-cp37m-manylinux1_x86_64.whl (11.6 MB)\n",
      "\u001b[K     |████████████████████████████████| 11.6 MB 4.0 MB/s eta 0:00:01\n",
      "\u001b[?25hInstalling collected packages: cvxopt\n",
      "Successfully installed cvxopt-1.2.6\n",
      "Requirement already satisfied: cvxpy in /srv/conda/envs/notebook/lib/python3.7/site-packages (1.1.12)\n",
      "Requirement already satisfied: scipy>=1.1.0 in /srv/conda/envs/notebook/lib/python3.7/site-packages (from cvxpy) (1.6.2)\n",
      "Requirement already satisfied: numpy>=1.15 in /srv/conda/envs/notebook/lib/python3.7/site-packages (from cvxpy) (1.20.2)\n",
      "Requirement already satisfied: scs>=1.1.6 in /srv/conda/envs/notebook/lib/python3.7/site-packages (from cvxpy) (2.1.2)\n",
      "Requirement already satisfied: osqp>=0.4.1 in /srv/conda/envs/notebook/lib/python3.7/site-packages (from cvxpy) (0.6.2.post0)\n",
      "Requirement already satisfied: ecos>=2 in /srv/conda/envs/notebook/lib/python3.7/site-packages (from cvxpy) (2.0.7.post1)\n",
      "Requirement already satisfied: qdldl in /srv/conda/envs/notebook/lib/python3.7/site-packages (from osqp>=0.4.1->cvxpy) (0.1.5.post0)\n",
      "Collecting matplotlib\n",
      "  Downloading matplotlib-3.4.1-cp37-cp37m-manylinux1_x86_64.whl (10.3 MB)\n",
      "\u001b[K     |████████████████████████████████| 10.3 MB 4.5 MB/s eta 0:00:01\n",
      "\u001b[?25hCollecting pillow>=6.2.0\n",
      "  Downloading Pillow-8.2.0-cp37-cp37m-manylinux1_x86_64.whl (3.0 MB)\n",
      "\u001b[K     |████████████████████████████████| 3.0 MB 68.6 MB/s eta 0:00:01\n",
      "\u001b[?25hRequirement already satisfied: pyparsing>=2.2.1 in /srv/conda/envs/notebook/lib/python3.7/site-packages (from matplotlib) (2.4.7)\n",
      "Requirement already satisfied: numpy>=1.16 in /srv/conda/envs/notebook/lib/python3.7/site-packages (from matplotlib) (1.20.2)\n",
      "Requirement already satisfied: python-dateutil>=2.7 in /srv/conda/envs/notebook/lib/python3.7/site-packages (from matplotlib) (2.8.1)\n",
      "Collecting cycler>=0.10\n",
      "  Downloading cycler-0.10.0-py2.py3-none-any.whl (6.5 kB)\n",
      "Collecting kiwisolver>=1.0.1\n",
      "  Downloading kiwisolver-1.3.1-cp37-cp37m-manylinux1_x86_64.whl (1.1 MB)\n",
      "\u001b[K     |████████████████████████████████| 1.1 MB 68.2 MB/s eta 0:00:01\n",
      "\u001b[?25hRequirement already satisfied: six in /srv/conda/envs/notebook/lib/python3.7/site-packages (from cycler>=0.10->matplotlib) (1.15.0)\n",
      "Installing collected packages: pillow, kiwisolver, cycler, matplotlib\n",
      "Successfully installed cycler-0.10.0 kiwisolver-1.3.1 matplotlib-3.4.1 pillow-8.2.0\n",
      "Collecting sklearn\n",
      "  Downloading sklearn-0.0.tar.gz (1.1 kB)\n",
      "Collecting scikit-learn\n",
      "  Downloading scikit_learn-0.24.1-cp37-cp37m-manylinux2010_x86_64.whl (22.3 MB)\n",
      "\u001b[K     |████████████████████████████████| 22.3 MB 252 kB/s eta 0:00:01\n",
      "\u001b[?25hRequirement already satisfied: numpy>=1.13.3 in /srv/conda/envs/notebook/lib/python3.7/site-packages (from scikit-learn->sklearn) (1.20.2)\n",
      "Requirement already satisfied: scipy>=0.19.1 in /srv/conda/envs/notebook/lib/python3.7/site-packages (from scikit-learn->sklearn) (1.6.2)\n",
      "Collecting joblib>=0.11\n",
      "  Downloading joblib-1.0.1-py3-none-any.whl (303 kB)\n",
      "\u001b[K     |████████████████████████████████| 303 kB 29.4 MB/s eta 0:00:01\n",
      "\u001b[?25hCollecting threadpoolctl>=2.0.0\n",
      "  Downloading threadpoolctl-2.1.0-py3-none-any.whl (12 kB)\n",
      "Building wheels for collected packages: sklearn\n",
      "  Building wheel for sklearn (setup.py) ... \u001b[?25ldone\n",
      "\u001b[?25h  Created wheel for sklearn: filename=sklearn-0.0-py2.py3-none-any.whl size=1316 sha256=0c09cd0f6daf19ddace242f128f5b602c96f715f0dd15df3c5c1dac9c79d0ec7\n",
      "  Stored in directory: /home/jovyan/.cache/pip/wheels/46/ef/c3/157e41f5ee1372d1be90b09f74f82b10e391eaacca8f22d33e\n",
      "Successfully built sklearn\n",
      "Installing collected packages: threadpoolctl, joblib, scikit-learn, sklearn\n",
      "Successfully installed joblib-1.0.1 scikit-learn-0.24.1 sklearn-0.0 threadpoolctl-2.1.0\n",
      "Collecting qiskit\n",
      "  Downloading qiskit-0.25.0.tar.gz (4.5 kB)\n",
      "Collecting qiskit-terra==0.17.0\n",
      "  Downloading qiskit_terra-0.17.0-cp37-cp37m-manylinux2010_x86_64.whl (6.0 MB)\n",
      "\u001b[K     |████████████████████████████████| 6.0 MB 4.1 MB/s eta 0:00:01\n",
      "\u001b[?25hCollecting qiskit-aer==0.8.0\n",
      "  Downloading qiskit_aer-0.8.0-cp37-cp37m-manylinux2010_x86_64.whl (17.9 MB)\n",
      "\u001b[K     |████████████████████████████████| 17.9 MB 17.5 MB/s eta 0:00:01\n",
      "\u001b[?25hCollecting qiskit-ibmq-provider==0.12.2\n",
      "  Downloading qiskit_ibmq_provider-0.12.2-py3-none-any.whl (198 kB)\n",
      "\u001b[K     |████████████████████████████████| 198 kB 31.5 MB/s eta 0:00:01\n",
      "\u001b[?25hCollecting qiskit-ignis==0.6.0\n",
      "  Downloading qiskit_ignis-0.6.0-py3-none-any.whl (207 kB)\n",
      "\u001b[K     |████████████████████████████████| 207 kB 55.0 MB/s eta 0:00:01\n",
      "\u001b[?25hCollecting qiskit-aqua==0.9.0\n",
      "  Downloading qiskit_aqua-0.9.0-py3-none-any.whl (2.1 MB)\n",
      "\u001b[K     |████████████████████████████████| 2.1 MB 73.1 MB/s eta 0:00:01\n",
      "\u001b[?25hCollecting pybind11>=2.6\n",
      "  Downloading pybind11-2.6.2-py2.py3-none-any.whl (191 kB)\n",
      "\u001b[K     |████████████████████████████████| 191 kB 31.7 MB/s eta 0:00:01\n",
      "\u001b[?25hRequirement already satisfied: scipy>=1.0 in /srv/conda/envs/notebook/lib/python3.7/site-packages (from qiskit-aer==0.8.0->qiskit) (1.6.2)\n",
      "Requirement already satisfied: numpy>=1.16.3 in /srv/conda/envs/notebook/lib/python3.7/site-packages (from qiskit-aer==0.8.0->qiskit) (1.20.2)\n",
      "Collecting numpy>=1.16.3\n",
      "  Downloading numpy-1.20.1-cp37-cp37m-manylinux2010_x86_64.whl (15.3 MB)\n",
      "\u001b[K     |████████████████████████████████| 15.3 MB 66.1 MB/s eta 0:00:01\n",
      "\u001b[?25hCollecting fastdtw<=0.3.4\n",
      "  Downloading fastdtw-0.3.4.tar.gz (133 kB)\n",
      "\u001b[K     |████████████████████████████████| 133 kB 72.4 MB/s eta 0:00:01\n",
      "\u001b[?25hRequirement already satisfied: setuptools>=40.1.0 in /srv/conda/envs/notebook/lib/python3.7/site-packages (from qiskit-aqua==0.9.0->qiskit) (49.6.0.post20210108)\n",
      "Collecting yfinance<=0.1.55\n",
      "  Downloading yfinance-0.1.55.tar.gz (23 kB)\n",
      "Requirement already satisfied: psutil<=5.8.0,>=5 in /srv/conda/envs/notebook/lib/python3.7/site-packages (from qiskit-aqua==0.9.0->qiskit) (5.8.0)\n",
      "Collecting sympy<=1.7.1,>=1.3\n",
      "  Downloading sympy-1.7.1-py3-none-any.whl (5.9 MB)\n",
      "\u001b[K     |████████████████████████████████| 5.9 MB 60.3 MB/s eta 0:00:01\n",
      "\u001b[?25hRequirement already satisfied: pandas<=1.2.3 in /srv/conda/envs/notebook/lib/python3.7/site-packages (from qiskit-aqua==0.9.0->qiskit) (1.2.3)\n",
      "Collecting quandl<=3.6.0\n",
      "  Downloading Quandl-3.6.0-py2.py3-none-any.whl (26 kB)\n",
      "Collecting scipy>=1.0\n",
      "  Using cached scipy-1.6.1-cp37-cp37m-manylinux1_x86_64.whl (27.4 MB)\n",
      "Collecting retworkx<=0.8.0,>=0.7.0\n",
      "  Downloading retworkx-0.8.0-cp37-cp37m-manylinux2010_x86_64.whl (1.0 MB)\n",
      "\u001b[K     |████████████████████████████████| 1.0 MB 46.0 MB/s eta 0:00:01\n",
      "\u001b[?25hCollecting dlx<=1.0.4\n",
      "  Downloading dlx-1.0.4.tar.gz (5.5 kB)\n",
      "Collecting h5py<=3.1.0\n",
      "  Downloading h5py-3.1.0-cp37-cp37m-manylinux1_x86_64.whl (4.0 MB)\n",
      "\u001b[K     |████████████████████████████████| 4.0 MB 45.3 MB/s eta 0:00:01\n",
      "\u001b[?25hRequirement already satisfied: scikit-learn<=0.24.1,>=0.20.0 in /srv/conda/envs/notebook/lib/python3.7/site-packages (from qiskit-aqua==0.9.0->qiskit) (0.24.1)\n",
      "Collecting docplex<=2.20.204\n",
      "  Downloading docplex-2.20.204.tar.gz (611 kB)\n",
      "\u001b[K     |████████████████████████████████| 611 kB 28.1 MB/s eta 0:00:01\n",
      "\u001b[?25hRequirement already satisfied: requests>=2.19 in /srv/conda/envs/notebook/lib/python3.7/site-packages (from qiskit-ibmq-provider==0.12.2->qiskit) (2.25.1)\n",
      "Collecting websockets>=8\n",
      "  Downloading websockets-8.1-cp37-cp37m-manylinux2010_x86_64.whl (79 kB)\n",
      "\u001b[K     |████████████████████████████████| 79 kB 6.9 MB/s  eta 0:00:01\n",
      "\u001b[?25hRequirement already satisfied: urllib3>=1.21.1 in /srv/conda/envs/notebook/lib/python3.7/site-packages (from qiskit-ibmq-provider==0.12.2->qiskit) (1.26.3)\n",
      "Requirement already satisfied: nest-asyncio!=1.1.0,>=1.0.0 in /srv/conda/envs/notebook/lib/python3.7/site-packages (from qiskit-ibmq-provider==0.12.2->qiskit) (1.4.3)\n",
      "Collecting requests-ntlm>=1.1.0\n",
      "  Downloading requests_ntlm-1.1.0-py2.py3-none-any.whl (5.7 kB)\n",
      "Requirement already satisfied: python-dateutil>=2.8.0 in /srv/conda/envs/notebook/lib/python3.7/site-packages (from qiskit-ibmq-provider==0.12.2->qiskit) (2.8.1)\n",
      "Requirement already satisfied: jsonschema>=2.6 in /srv/conda/envs/notebook/lib/python3.7/site-packages (from qiskit-terra==0.17.0->qiskit) (3.2.0)\n",
      "Collecting python-constraint>=1.4\n",
      "  Downloading python-constraint-1.4.0.tar.bz2 (18 kB)\n",
      "Collecting ply>=3.10\n",
      "  Downloading ply-3.11-py2.py3-none-any.whl (49 kB)\n",
      "\u001b[K     |████████████████████████████████| 49 kB 8.4 MB/s  eta 0:00:01\n",
      "\u001b[?25hCollecting dill>=0.3\n",
      "  Downloading dill-0.3.3-py2.py3-none-any.whl (81 kB)\n",
      "\u001b[K     |████████████████████████████████| 81 kB 9.1 MB/s  eta 0:00:01\n",
      "\u001b[?25hCollecting fastjsonschema>=2.10\n",
      "  Downloading fastjsonschema-2.15.0-py3-none-any.whl (21 kB)\n",
      "Requirement already satisfied: six in /srv/conda/envs/notebook/lib/python3.7/site-packages (from docplex<=2.20.204->qiskit-aqua==0.9.0->qiskit) (1.15.0)\n",
      "Collecting cached-property\n",
      "  Downloading cached_property-1.5.2-py2.py3-none-any.whl (7.6 kB)\n",
      "Requirement already satisfied: attrs>=17.4.0 in /srv/conda/envs/notebook/lib/python3.7/site-packages (from jsonschema>=2.6->qiskit-terra==0.17.0->qiskit) (20.3.0)\n",
      "Requirement already satisfied: importlib-metadata in /srv/conda/envs/notebook/lib/python3.7/site-packages (from jsonschema>=2.6->qiskit-terra==0.17.0->qiskit) (3.4.0)\n",
      "Requirement already satisfied: pyrsistent>=0.14.0 in /srv/conda/envs/notebook/lib/python3.7/site-packages (from jsonschema>=2.6->qiskit-terra==0.17.0->qiskit) (0.17.3)\n",
      "Requirement already satisfied: pytz>=2017.3 in /srv/conda/envs/notebook/lib/python3.7/site-packages (from pandas<=1.2.3->qiskit-aqua==0.9.0->qiskit) (2021.1)\n",
      "Collecting more-itertools\n",
      "  Downloading more_itertools-8.7.0-py3-none-any.whl (48 kB)\n",
      "\u001b[K     |████████████████████████████████| 48 kB 7.1 MB/s  eta 0:00:01\n",
      "\u001b[?25hCollecting inflection>=0.3.1\n",
      "  Downloading inflection-0.5.1-py2.py3-none-any.whl (9.5 kB)\n",
      "Requirement already satisfied: certifi>=2017.4.17 in /srv/conda/envs/notebook/lib/python3.7/site-packages (from requests>=2.19->qiskit-ibmq-provider==0.12.2->qiskit) (2020.12.5)\n",
      "Requirement already satisfied: idna<3,>=2.5 in /srv/conda/envs/notebook/lib/python3.7/site-packages (from requests>=2.19->qiskit-ibmq-provider==0.12.2->qiskit) (2.10)\n",
      "Requirement already satisfied: chardet<5,>=3.0.2 in /srv/conda/envs/notebook/lib/python3.7/site-packages (from requests>=2.19->qiskit-ibmq-provider==0.12.2->qiskit) (4.0.0)\n",
      "Requirement already satisfied: cryptography>=1.3 in /srv/conda/envs/notebook/lib/python3.7/site-packages (from requests-ntlm>=1.1.0->qiskit-ibmq-provider==0.12.2->qiskit) (3.4.4)\n",
      "Collecting ntlm-auth>=1.0.2\n",
      "  Downloading ntlm_auth-1.5.0-py2.py3-none-any.whl (29 kB)\n",
      "Requirement already satisfied: cffi>=1.12 in /srv/conda/envs/notebook/lib/python3.7/site-packages (from cryptography>=1.3->requests-ntlm>=1.1.0->qiskit-ibmq-provider==0.12.2->qiskit) (1.14.5)\n",
      "Requirement already satisfied: pycparser in /srv/conda/envs/notebook/lib/python3.7/site-packages (from cffi>=1.12->cryptography>=1.3->requests-ntlm>=1.1.0->qiskit-ibmq-provider==0.12.2->qiskit) (2.20)\n",
      "Requirement already satisfied: joblib>=0.11 in /srv/conda/envs/notebook/lib/python3.7/site-packages (from scikit-learn<=0.24.1,>=0.20.0->qiskit-aqua==0.9.0->qiskit) (1.0.1)\n",
      "Requirement already satisfied: threadpoolctl>=2.0.0 in /srv/conda/envs/notebook/lib/python3.7/site-packages (from scikit-learn<=0.24.1,>=0.20.0->qiskit-aqua==0.9.0->qiskit) (2.1.0)\n",
      "Collecting mpmath>=0.19\n",
      "  Downloading mpmath-1.2.1-py3-none-any.whl (532 kB)\n",
      "\u001b[K     |████████████████████████████████| 532 kB 58.8 MB/s eta 0:00:01\n",
      "\u001b[?25hRequirement already satisfied: multitasking>=0.0.7 in /srv/conda/envs/notebook/lib/python3.7/site-packages (from yfinance<=0.1.55->qiskit-aqua==0.9.0->qiskit) (0.0.9)\n",
      "Requirement already satisfied: lxml>=4.5.1 in /srv/conda/envs/notebook/lib/python3.7/site-packages (from yfinance<=0.1.55->qiskit-aqua==0.9.0->qiskit) (4.6.3)\n",
      "Requirement already satisfied: typing-extensions>=3.6.4 in /srv/conda/envs/notebook/lib/python3.7/site-packages (from importlib-metadata->jsonschema>=2.6->qiskit-terra==0.17.0->qiskit) (3.7.4.3)\n",
      "Requirement already satisfied: zipp>=0.5 in /srv/conda/envs/notebook/lib/python3.7/site-packages (from importlib-metadata->jsonschema>=2.6->qiskit-terra==0.17.0->qiskit) (3.4.0)\n",
      "Building wheels for collected packages: qiskit, dlx, docplex, fastdtw, python-constraint, yfinance\n",
      "  Building wheel for qiskit (setup.py) ... \u001b[?25ldone\n",
      "\u001b[?25h  Created wheel for qiskit: filename=qiskit-0.25.0-py3-none-any.whl size=3029 sha256=a12a9bf141294d0dffb07f2ee26270e84d8da52262e35942165744be94af0a73\n",
      "  Stored in directory: /home/jovyan/.cache/pip/wheels/b6/97/e0/c4040cb372f6a50b089f8fade409887afdccc8e6e3f96059c9\n",
      "  Building wheel for dlx (setup.py) ... \u001b[?25ldone\n",
      "\u001b[?25h  Created wheel for dlx: filename=dlx-1.0.4-py3-none-any.whl size=5709 sha256=008604560093249038d357a00d957f0cb40125ec7570c8521d9b37c11a1cf949\n",
      "  Stored in directory: /home/jovyan/.cache/pip/wheels/78/55/c8/dc61e772445a566b7608a476d151e9dcaf4e092b01b0c4bc3c\n",
      "  Building wheel for docplex (setup.py) ... \u001b[?25ldone\n",
      "\u001b[?25h  Created wheel for docplex: filename=docplex-2.20.204-py3-none-any.whl size=675361 sha256=e7c58919a90f1667bf8a4e7cd61881f3e884cf61dd87639d98f643124570f777\n",
      "  Stored in directory: /home/jovyan/.cache/pip/wheels/24/28/27/3d81f89b59c6ccc69af0b4d76c6ff76337d80c874871b52ff6\n",
      "  Building wheel for fastdtw (setup.py) ... \u001b[?25ldone\n",
      "\u001b[?25h  Created wheel for fastdtw: filename=fastdtw-0.3.4-cp37-cp37m-linux_x86_64.whl size=390870 sha256=5aea6c1438b3ab460111e74ac3b22bbbb46ad4d7ce7cd26d3e27d88b0192f37a\n",
      "  Stored in directory: /home/jovyan/.cache/pip/wheels/a2/da/8c/2d1b9b233595056f05e59156bb555f7277b88beb385605de16\n",
      "  Building wheel for python-constraint (setup.py) ... \u001b[?25ldone\n",
      "\u001b[?25h  Created wheel for python-constraint: filename=python_constraint-1.4.0-py2.py3-none-any.whl size=24079 sha256=4914fb80985b851230e4bacf8262c0614882312a4f8790b67708d46b0b2ed198\n",
      "  Stored in directory: /home/jovyan/.cache/pip/wheels/07/27/db/1222c80eb1e431f3d2199c12569cb1cac60f562a451fe30479\n",
      "  Building wheel for yfinance (setup.py) ... \u001b[?25ldone\n",
      "\u001b[?25h  Created wheel for yfinance: filename=yfinance-0.1.55-py2.py3-none-any.whl size=22616 sha256=80bf1fe3a741a6961ff35c8e1a1da55ed5b015d07e202b2f8cd7471d8895af6e\n",
      "  Stored in directory: /home/jovyan/.cache/pip/wheels/aa/8a/36/59ed4f6fbcb6100967618eeb0696046bf9777a41ac2ff1f9b9\n",
      "Successfully built qiskit dlx docplex fastdtw python-constraint yfinance\n",
      "Installing collected packages: numpy, mpmath, sympy, scipy, retworkx, python-constraint, ply, fastjsonschema, dill, qiskit-terra, ntlm-auth, more-itertools, inflection, cached-property, yfinance, websockets, requests-ntlm, quandl, qiskit-ignis, pybind11, h5py, fastdtw, docplex, dlx, qiskit-ibmq-provider, qiskit-aqua, qiskit-aer, qiskit\n",
      "  Attempting uninstall: numpy\n",
      "    Found existing installation: numpy 1.20.2\n",
      "    Uninstalling numpy-1.20.2:\n",
      "      Successfully uninstalled numpy-1.20.2\n",
      "  Attempting uninstall: scipy\n",
      "    Found existing installation: scipy 1.6.2\n",
      "    Uninstalling scipy-1.6.2:\n",
      "      Successfully uninstalled scipy-1.6.2\n",
      "  Attempting uninstall: yfinance\n",
      "    Found existing installation: yfinance 0.1.59\n",
      "    Uninstalling yfinance-0.1.59:\n",
      "      Successfully uninstalled yfinance-0.1.59\n",
      "Successfully installed cached-property-1.5.2 dill-0.3.3 dlx-1.0.4 docplex-2.20.204 fastdtw-0.3.4 fastjsonschema-2.15.0 h5py-3.1.0 inflection-0.5.1 more-itertools-8.7.0 mpmath-1.2.1 ntlm-auth-1.5.0 numpy-1.20.1 ply-3.11 pybind11-2.6.2 python-constraint-1.4.0 qiskit-0.25.0 qiskit-aer-0.8.0 qiskit-aqua-0.9.0 qiskit-ibmq-provider-0.12.2 qiskit-ignis-0.6.0 qiskit-terra-0.17.0 quandl-3.6.0 requests-ntlm-1.1.0 retworkx-0.8.0 scipy-1.6.1 sympy-1.7.1 websockets-8.1 yfinance-0.1.55\n"
     ]
    },
    {
     "name": "stderr",
     "output_type": "stream",
     "text": [
      "/srv/conda/envs/notebook/lib/python3.7/site-packages/qiskit/finance/__init__.py:50: DeprecationWarning: The package qiskit.finance is deprecated. It was moved/refactored to qiskit_finance (pip install qiskit-finance). For more information see <https://github.com/Qiskit/qiskit-aqua/blob/master/README.md#migration-guide>\n",
      "  warn_package('finance', 'qiskit_finance', 'qiskit-finance')\n"
     ]
    }
   ],
   "source": [
    "get_ipython().system('pip install yfinance')\n",
    "get_ipython().system('pip install PyPortfolioOpt')\n",
    "get_ipython().system('pip install cvxopt')\n",
    "get_ipython().system('pip install cvxpy')\n",
    "get_ipython().system('pip install matplotlib')\n",
    "get_ipython().system('pip install sklearn')\n",
    "import pypfopt\n",
    "import yfinance as yf\n",
    "import matplotlib.pyplot as plt\n",
    "import pandas as pd\n",
    "import numpy as np\n",
    "from pypfopt import risk_models\n",
    "from pypfopt import plotting\n",
    "from pypfopt import expected_returns\n",
    "from pypfopt import EfficientFrontier\n",
    "from pypfopt import DiscreteAllocation\n",
    "from pypfopt import objective_functions\n",
    "from pypfopt import DiscreteAllocation\n",
    "get_ipython().system('pip install qiskit')\n",
    "get_ipython().run_line_magic('matplotlib', 'inline')\n",
    "from qiskit.finance import QiskitFinanceError\n",
    "from qiskit.finance.data_providers import *\n",
    "import warnings\n",
    "warnings.filterwarnings(\"ignore\", category=DeprecationWarning)\n",
    "import datetime\n",
    "import matplotlib.pyplot as plt\n",
    "from pandas.plotting import register_matplotlib_converters\n",
    "register_matplotlib_converters()\n",
    "\n",
    "from qiskit import Aer\n",
    "from qiskit.circuit.library import TwoLocal\n",
    "from qiskit.aqua import QuantumInstance\n",
    "from qiskit.finance.applications.ising import portfolio\n",
    "from qiskit.optimization.applications.ising.common import sample_most_likely\n",
    "from qiskit.finance.data_providers import RandomDataProvider\n",
    "from qiskit.aqua.algorithms import VQE, QAOA, NumPyMinimumEigensolver\n",
    "from qiskit.aqua.components.optimizers import COBYLA\n",
    "import numpy as np\n",
    "import matplotlib.pyplot as plt\n",
    "import datetime"
   ]
  },
  {
   "cell_type": "code",
   "execution_count": 21,
   "metadata": {
    "jupyter": {
     "outputs_hidden": false,
     "source_hidden": false
    },
    "nteract": {
     "transient": {
      "deleting": false
     }
    }
   },
   "outputs": [],
   "source": [
    "def returns(prices):\n",
    "    mu = expected_returns.capm_return(prices)\n",
    "    return mu\n",
    "\n",
    "def min_variance(prices):\n",
    "    # Long/Short Min Variance Portfolio\n",
    "    S = risk_models.CovarianceShrinkage(prices).ledoit_wolf()\n",
    "    ef = EfficientFrontier(None, S, weight_bounds=(None, None))\n",
    "    ef.min_volatility()\n",
    "    weights = ef.clean_weights()\n",
    "    ef.portfolio_performance(verbose=True);\n",
    "    return(weights)\n",
    "\n",
    "def Max_Sharpe_port(prices):\n",
    "    # Max Sharpe Portfolio\n",
    "    mu = returns(prices)\n",
    "    S = risk_models.CovarianceShrinkage(prices).ledoit_wolf()\n",
    "    ef = EfficientFrontier(mu, S) \n",
    "    ef.max_sharpe()\n",
    "    weights = ef.clean_weights()\n",
    "    ef.portfolio_performance(verbose=True)\n",
    "    return weights\n",
    "\n",
    "risk = 0.15\n",
    "def return_given_risk(prices):\n",
    "    mu = returns(prices)\n",
    "    S = risk_models.CovarianceShrinkage(prices).ledoit_wolf()\n",
    "    ef = EfficientFrontier(mu, S)\n",
    "    ef.add_objective(objective_functions.L2_reg)  # gamme is the tuning parameter\n",
    "    ef.efficient_risk(0.15)\n",
    "    weights = ef.clean_weights()\n",
    "    ef.portfolio_performance(verbose=True)\n",
    "    return weights\n",
    "\n",
    "def minimize_risk(prices):\n",
    "    mu = returns(prices)\n",
    "    S = risk_models.CovarianceShrinkage(prices).ledoit_wolf()\n",
    "    ef = EfficientFrontier(mu, S, weight_bounds=(None, None))\n",
    "    ef.add_objective(objective_functions.L2_reg)\n",
    "    ef.efficient_return(target_return=0.07, market_neutral=True)\n",
    "    weights = ef.clean_weights()\n",
    "    ef.portfolio_performance(verbose=True);\n",
    "    return weights\n",
    "\n",
    "def generate_prices(tickers):\n",
    "    tickers = tickers \n",
    "    ohlc = yf.download(tickers, end=\"2020-03-23\")\n",
    "    prices = ohlc[\"Adj Close\"].dropna(how=\"all\")\n",
    "    return(prices)\n",
    "\n",
    "def index_to_selection(i, num_assets):\n",
    "    s = \"{0:b}\".format(i).rjust(num_assets)\n",
    "    x = np.array([1 if s[i]=='1' else 0 for i in reversed(range(num_assets))])\n",
    "    return x\n",
    "\n",
    "def print_result(result):\n",
    "    selection = sample_most_likely(result.eigenstate)\n",
    "    value = portfolio.portfolio_value(selection, mu, sigma, q, budget, penalty)\n",
    "    print('Optimal: selection {}, value {:.4f}'.format(selection, value))\n",
    "\n",
    "    eigenvector = result.eigenstate if isinstance(result.eigenstate, np.ndarray) else result.eigenstate.to_matrix()\n",
    "    probabilities = np.abs(eigenvector)**2\n",
    "    i_sorted = reversed(np.argsort(probabilities))\n",
    "    print('\\n----------------- Full result ---------------------')\n",
    "    print('selection\\tvalue\\t\\tprobability')\n",
    "    print('---------------------------------------------------')\n",
    "    for i in i_sorted:\n",
    "        x = index_to_selection(i, num_assets)\n",
    "        value = portfolio.portfolio_value(x, mu, sigma, q, budget, penalty)\n",
    "        probability = probabilities[i]\n",
    "        print('%10s\\t%.4f\\t\\t%.4f' %(x, value, probability))\n",
    "\n",
    "# Discrete Allocation\n",
    "# latest_prices = prices.iloc[-1]  # prices as of the day you are allocating\n",
    "# da = DiscreteAllocation(weights, latest_prices, total_portfolio_value=20000, short_ratio=0.3)\n",
    "# alloc, leftover = da.lp_portfolio()\n",
    "# print(f\"Discrete allocation performed with ${leftover:.2f} leftover\")\n",
    "# alloc\n",
    "\n",
    "# VQE Backend - Shitty Results , erratic convergence pattern\n",
    "# backend = Aer.get_backend('statevector_simulator')\n",
    "# seed = 50\n",
    "\n",
    "# cobyla = COBYLA()\n",
    "# cobyla.set_options(maxiter=500)\n",
    "# ry = TwoLocal(qubitOp.num_qubits, 'ry', 'cz', reps=3, entanglement='full')\n",
    "# vqe = VQE(qubitOp, ry, cobyla)\n",
    "# vqe.random_seed = seed\n",
    "\n",
    "# quantum_instance = QuantumInstance(backend=backend, seed_simulator=seed, seed_transpiler=seed)\n",
    "\n",
    "# result = vqe.run(quantum_instance)\n",
    "\n",
    "# print_result(result)\n",
    "\n",
    "def quantum(tickers):\n",
    "    data = YahooDataProvider(\n",
    "                     tickers = tickers,\n",
    "#                      start=datetime.datetime(2015,3,23),\n",
    "                     end=datetime.datetime(2020, 3, 23))\n",
    "    data.run()\n",
    "\n",
    "    num_assets = 5\n",
    "\n",
    "    mu = data.get_period_return_mean_vector()\n",
    "    sigma = data.get_period_return_covariance_matrix()\n",
    "\n",
    "    q = 0.5                   # set risk factor\n",
    "    budget = num_assets // 2  # set budget\n",
    "    penalty = num_assets      # set parameter to scale the budget penalty term\n",
    "\n",
    "    qubitOp, offset = portfolio.get_operator(mu, sigma, q, budget, penalty)\n",
    "\n",
    "    backend = Aer.get_backend('statevector_simulator')\n",
    "    seed = 50\n",
    "\n",
    "    cobyla = COBYLA()\n",
    "    cobyla.set_options(maxiter=250)\n",
    "    qaoa = QAOA(qubitOp, cobyla, 3)\n",
    "\n",
    "    qaoa.random_seed = seed\n",
    "\n",
    "    quantum_instance = QuantumInstance(backend=backend, seed_simulator=seed, seed_transpiler=seed)\n",
    "\n",
    "    result = qaoa.run(quantum_instance)\n",
    "\n",
    "    print_result(result)"
   ]
  },
  {
   "cell_type": "code",
   "execution_count": null,
   "metadata": {},
   "outputs": [],
   "source": [
    "# sorted by top AUM\n",
    "\n",
    "tech = ['QQQ', 'VGT', 'XLK', 'ARKK', 'FDN'] \n",
    "healthcare = ['XLV', 'VHT','IBB','ARKG','IHI']\n",
    "financials = ['XLF', 'VFH', 'KRE', 'KBE', 'FAS']\n",
    "real_estate = ['VNQ', 'SCHH', 'VNQI', 'IYR', 'REET']\n",
    "energy = ['XLE', 'ICLN', 'AMLP', 'VDE', 'XOP']\n",
    "materials = ['GDX', 'XLB', 'GDXJ', 'GUNR', 'VAW']\n",
    "consumer = ['XLY', 'XLC', 'VCR', 'PEJ', 'FXD']\n",
    "industrials = ['XLI', 'VIS', 'JETS', 'ITA', 'IYT']\n",
    "telecom = ['VOX', 'NXTG', 'FCOM', 'IYZ', 'IXP']\n",
    "consumer_staples = ['XLP', 'VDC', 'IEV', 'FSTA', 'IYK']\n",
    "utilities = ['XLU', 'VPU', 'IGF', 'NFRA', 'PAVE']\n",
    "\n",
    "all_industries = [\"MSFT\", \"AMZN\", \"KO\", \"MA\", \"COST\",\n",
    "           \"LUV\", \"XOM\", \"PFE\", \"JPM\", \"UNH\", \n",
    "           \"ACN\", \"DIS\", \"GILD\", \"F\", \"TSLA\"]"
   ]
  },
  {
   "cell_type": "markdown",
   "metadata": {},
   "source": [
    "## Test 1: Cross-Industry Portfolios"
   ]
  },
  {
   "cell_type": "code",
   "execution_count": 3,
   "metadata": {},
   "outputs": [
    {
     "name": "stdout",
     "output_type": "stream",
     "text": [
      "[*********************100%***********************]  5 of 5 completed\n",
      "Expected annual return: 23.2%\n",
      "Annual volatility: 15.1%\n",
      "Sharpe Ratio: 1.41\n"
     ]
    },
    {
     "data": {
      "text/plain": [
       "OrderedDict([('AMZN', 0.20923),\n",
       "             ('COST', 0.11975),\n",
       "             ('KO', 0.11957),\n",
       "             ('MA', 0.46735),\n",
       "             ('MSFT', 0.0841)])"
      ]
     },
     "execution_count": 3,
     "metadata": {},
     "output_type": "execute_result"
    }
   ],
   "source": [
    "# Test 1 \n",
    "\n",
    "# Classical Portfolio\n",
    "test1 = [\"MSFT\", \"AMZN\", \"KO\", \"MA\", \"COST\"]\n",
    "prices = generate_prices(test1)\n",
    "# cov = risk_models.CovarianceShrinkage(prices).ledoit_wolf()\n",
    "# plotting.plot_covariance(cov, plot_correlation=True)\n",
    "Max_Sharpe_port(prices)"
   ]
  },
  {
   "cell_type": "code",
   "execution_count": 26,
   "metadata": {},
   "outputs": [
    {
     "name": "stdout",
     "output_type": "stream",
     "text": [
      "Optimal: selection [0. 0. 1. 0. 1.], value -0.0006\n",
      "\n",
      "----------------- Full result ---------------------\n",
      "selection\tvalue\t\tprobability\n",
      "---------------------------------------------------\n",
      "[0 0 1 0 1]\t-0.0006\t\t0.0892\n",
      "[0 0 1 1 0]\t-0.0003\t\t0.0892\n",
      "[1 0 1 0 0]\t0.0002\t\t0.0891\n",
      "[0 1 1 0 0]\t0.0007\t\t0.0890\n",
      "[0 0 0 1 1]\t-0.0008\t\t0.0889\n",
      "[1 0 0 0 1]\t-0.0003\t\t0.0888\n",
      "[1 0 0 1 0]\t0.0000\t\t0.0888\n",
      "[0 1 0 0 1]\t0.0002\t\t0.0888\n",
      "[0 1 0 1 0]\t0.0004\t\t0.0887\n",
      "[1 1 0 0 0]\t0.0010\t\t0.0887\n",
      "[0 0 0 0 0]\t20.0000\t\t0.0112\n",
      "[0 0 1 1 1]\t4.9993\t\t0.0069\n",
      "[1 0 1 1 0]\t5.0002\t\t0.0069\n",
      "[1 0 1 0 1]\t4.9999\t\t0.0069\n",
      "[0 1 1 0 1]\t5.0003\t\t0.0069\n",
      "[0 1 1 1 0]\t5.0006\t\t0.0069\n",
      "[1 1 1 0 0]\t5.0011\t\t0.0069\n",
      "[1 1 0 1 0]\t5.0009\t\t0.0068\n",
      "[1 0 0 1 1]\t4.9997\t\t0.0068\n",
      "[0 1 0 1 1]\t5.0001\t\t0.0068\n",
      "[1 1 0 0 1]\t5.0006\t\t0.0068\n",
      "[1 1 1 1 1]\t45.0010\t\t0.0043\n",
      "[0 0 1 0 0]\t4.9999\t\t0.0040\n",
      "[0 0 0 0 1]\t4.9994\t\t0.0040\n",
      "[0 0 0 1 0]\t4.9996\t\t0.0040\n",
      "[1 0 0 0 0]\t5.0002\t\t0.0040\n",
      "[0 1 0 0 0]\t5.0006\t\t0.0040\n",
      "[1 0 1 1 1]\t19.9999\t\t0.0014\n",
      "[1 1 1 1 0]\t20.0011\t\t0.0014\n",
      "[0 1 1 1 1]\t20.0003\t\t0.0014\n",
      "[1 1 1 0 1]\t20.0008\t\t0.0014\n",
      "[1 1 0 1 1]\t20.0007\t\t0.0014\n"
     ]
    }
   ],
   "source": [
    "# Quantum Portfolio\n",
    "\n",
    "quantum(test1)"
   ]
  },
  {
   "cell_type": "code",
   "execution_count": 25,
   "metadata": {},
   "outputs": [
    {
     "name": "stdout",
     "output_type": "stream",
     "text": [
      "[*********************100%***********************]  2 of 2 completed\n",
      "Expected annual return: 40.6%\n",
      "Annual volatility: 34.8%\n",
      "Sharpe Ratio: 1.11\n"
     ]
    },
    {
     "data": {
      "text/plain": [
       "OrderedDict([('AMZN', 0.56604), ('MSFT', 0.43396)])"
      ]
     },
     "execution_count": 25,
     "metadata": {},
     "output_type": "execute_result"
    }
   ],
   "source": [
    "prices_2 = generate_prices(['MSFT','AMZN'])\n",
    "Max_Sharpe_port(prices_2)"
   ]
  },
  {
   "cell_type": "markdown",
   "metadata": {},
   "source": [
    "# Test 1.B"
   ]
  },
  {
   "cell_type": "code",
   "execution_count": 27,
   "metadata": {},
   "outputs": [
    {
     "name": "stdout",
     "output_type": "stream",
     "text": [
      "[*********************100%***********************]  5 of 5 completed\n",
      "Expected annual return: 16.7%\n",
      "Annual volatility: 18.4%\n",
      "Sharpe Ratio: 0.80\n"
     ]
    },
    {
     "data": {
      "text/plain": [
       "OrderedDict([('JPM', 0.20965),\n",
       "             ('LUV', 0.20761),\n",
       "             ('PFE', 0.19906),\n",
       "             ('UNH', 0.25321),\n",
       "             ('XOM', 0.13047)])"
      ]
     },
     "execution_count": 27,
     "metadata": {},
     "output_type": "execute_result"
    }
   ],
   "source": [
    "test_2 = [\"LUV\", \"XOM\", \"PFE\", \"JPM\", \"UNH\"]\n",
    "prices = generate_prices(test_2)\n",
    "# cov = risk_models.CovarianceShrinkage(prices).ledoit_wolf()\n",
    "# plotting.plot_covariance(cov, plot_correlation=True)\n",
    "Max_Sharpe_port(prices)"
   ]
  },
  {
   "cell_type": "code",
   "execution_count": 33,
   "metadata": {},
   "outputs": [
    {
     "name": "stdout",
     "output_type": "stream",
     "text": [
      "Optimal: selection [0. 0. 0. 1. 1.], value -0.0008\n",
      "\n",
      "----------------- Full result ---------------------\n",
      "selection\tvalue\t\tprobability\n",
      "---------------------------------------------------\n",
      "[0 0 0 1 1]\t-0.0008\t\t0.0891\n",
      "[0 0 1 0 1]\t-0.0006\t\t0.0890\n",
      "[0 0 1 1 0]\t-0.0003\t\t0.0889\n",
      "[1 0 0 0 1]\t-0.0003\t\t0.0889\n",
      "[1 0 0 1 0]\t0.0000\t\t0.0888\n",
      "[0 1 0 0 1]\t0.0002\t\t0.0887\n",
      "[1 0 1 0 0]\t0.0002\t\t0.0887\n",
      "[0 1 0 1 0]\t0.0004\t\t0.0886\n",
      "[0 1 1 0 0]\t0.0007\t\t0.0885\n",
      "[1 1 0 0 0]\t0.0010\t\t0.0884\n",
      "[0 0 0 0 0]\t20.0000\t\t0.0182\n",
      "[0 0 0 0 1]\t4.9994\t\t0.0109\n",
      "[0 0 0 1 0]\t4.9996\t\t0.0109\n",
      "[0 0 1 0 0]\t4.9999\t\t0.0108\n",
      "[1 0 0 0 0]\t5.0002\t\t0.0108\n",
      "[0 1 0 0 0]\t5.0006\t\t0.0107\n",
      "[1 0 1 1 1]\t19.9999\t\t0.0030\n",
      "[1 1 0 1 1]\t20.0007\t\t0.0030\n",
      "[0 1 1 1 1]\t20.0003\t\t0.0030\n",
      "[1 1 1 1 0]\t20.0011\t\t0.0030\n",
      "[1 1 1 0 1]\t20.0008\t\t0.0030\n",
      "[0 1 1 0 1]\t5.0003\t\t0.0025\n",
      "[1 0 1 0 1]\t4.9999\t\t0.0025\n",
      "[1 1 0 1 0]\t5.0009\t\t0.0025\n",
      "[1 1 1 0 0]\t5.0011\t\t0.0025\n",
      "[1 0 1 1 0]\t5.0002\t\t0.0025\n",
      "[0 1 0 1 1]\t5.0001\t\t0.0025\n",
      "[0 1 1 1 0]\t5.0006\t\t0.0025\n",
      "[1 0 0 1 1]\t4.9997\t\t0.0025\n",
      "[0 0 1 1 1]\t4.9993\t\t0.0025\n",
      "[1 1 0 0 1]\t5.0006\t\t0.0025\n",
      "[1 1 1 1 1]\t45.0010\t\t0.0005\n"
     ]
    }
   ],
   "source": [
    "quantum(test_2)"
   ]
  },
  {
   "cell_type": "code",
   "execution_count": 37,
   "metadata": {},
   "outputs": [
    {
     "name": "stdout",
     "output_type": "stream",
     "text": [
      "[*********************100%***********************]  3 of 3 completed\n",
      "Expected annual return: 17.7%\n",
      "Annual volatility: 19.7%\n",
      "Sharpe Ratio: 0.79\n"
     ]
    },
    {
     "data": {
      "text/plain": [
       "OrderedDict([('PFE', 0.32759), ('UNH', 0.43179), ('XOM', 0.24062)])"
      ]
     },
     "execution_count": 37,
     "metadata": {},
     "output_type": "execute_result"
    }
   ],
   "source": [
    "prices = generate_prices(['PFE', 'UNH', \"XOM\"])\n",
    "Max_Sharpe_port(prices)"
   ]
  },
  {
   "cell_type": "markdown",
   "metadata": {},
   "source": [
    "# Test 1.C "
   ]
  },
  {
   "cell_type": "code",
   "execution_count": 30,
   "metadata": {
    "jupyter": {
     "outputs_hidden": false,
     "source_hidden": false
    },
    "nteract": {
     "transient": {
      "deleting": false
     }
    }
   },
   "outputs": [
    {
     "name": "stdout",
     "output_type": "stream",
     "text": [
      "[*********************100%***********************]  5 of 5 completed\n",
      "Expected annual return: 18.9%\n",
      "Annual volatility: 14.5%\n",
      "Sharpe Ratio: 1.17\n"
     ]
    },
    {
     "data": {
      "text/plain": [
       "OrderedDict([('ACN', 0.27102),\n",
       "             ('DIS', 0.08611),\n",
       "             ('F', 0.05369),\n",
       "             ('GILD', 0.16673),\n",
       "             ('TSLA', 0.42245)])"
      ]
     },
     "execution_count": 30,
     "metadata": {},
     "output_type": "execute_result"
    }
   ],
   "source": [
    "# Test 3 \n",
    "\n",
    "test_3 = [\"ACN\", \"DIS\", \"GILD\", \"F\", \"TSLA\"]\n",
    "prices = generate_prices(test_3)\n",
    "cov = risk_models.CovarianceShrinkage(prices).ledoit_wolf()\n",
    "# plotting.plot_covariance(cov, plot_correlation=True)\n",
    "\n",
    "Max_Sharpe_port(prices)"
   ]
  },
  {
   "cell_type": "code",
   "execution_count": 31,
   "metadata": {
    "jupyter": {
     "outputs_hidden": false,
     "source_hidden": false
    },
    "nteract": {
     "transient": {
      "deleting": false
     }
    }
   },
   "outputs": [
    {
     "name": "stdout",
     "output_type": "stream",
     "text": [
      "Optimal: selection [1. 0. 0. 0. 1.], value -0.0003\n",
      "\n",
      "----------------- Full result ---------------------\n",
      "selection\tvalue\t\tprobability\n",
      "---------------------------------------------------\n",
      "[1 0 0 0 1]\t-0.0003\t\t0.0902\n",
      "[0 1 0 0 1]\t0.0002\t\t0.0902\n",
      "[0 0 1 0 1]\t-0.0006\t\t0.0902\n",
      "[1 1 0 0 0]\t0.0010\t\t0.0902\n",
      "[1 0 1 0 0]\t0.0002\t\t0.0902\n",
      "[0 0 0 1 1]\t-0.0008\t\t0.0901\n",
      "[0 1 1 0 0]\t0.0007\t\t0.0901\n",
      "[1 0 0 1 0]\t0.0000\t\t0.0901\n",
      "[0 1 0 1 0]\t0.0004\t\t0.0901\n",
      "[0 0 1 1 0]\t-0.0003\t\t0.0901\n",
      "[0 0 0 0 0]\t20.0000\t\t0.0092\n",
      "[1 1 1 0 1]\t20.0008\t\t0.0087\n",
      "[1 0 1 1 1]\t19.9999\t\t0.0087\n",
      "[1 1 1 1 0]\t20.0011\t\t0.0087\n",
      "[1 1 0 1 1]\t20.0007\t\t0.0087\n",
      "[0 1 1 1 1]\t20.0003\t\t0.0087\n",
      "[1 0 1 0 1]\t4.9999\t\t0.0041\n",
      "[1 1 0 0 1]\t5.0006\t\t0.0041\n",
      "[0 1 1 0 1]\t5.0003\t\t0.0041\n",
      "[1 1 1 0 0]\t5.0011\t\t0.0041\n",
      "[1 0 0 1 1]\t4.9997\t\t0.0041\n",
      "[1 0 1 1 0]\t5.0002\t\t0.0041\n",
      "[0 0 1 1 1]\t4.9993\t\t0.0041\n",
      "[1 1 0 1 0]\t5.0009\t\t0.0041\n",
      "[0 1 0 1 1]\t5.0001\t\t0.0041\n",
      "[0 1 1 1 0]\t5.0006\t\t0.0041\n",
      "[1 1 1 1 1]\t45.0010\t\t0.0022\n",
      "[0 0 0 0 1]\t4.9994\t\t0.0006\n",
      "[1 0 0 0 0]\t5.0002\t\t0.0006\n",
      "[0 0 1 0 0]\t4.9999\t\t0.0005\n",
      "[0 1 0 0 0]\t5.0006\t\t0.0005\n",
      "[0 0 0 1 0]\t4.9996\t\t0.0005\n"
     ]
    }
   ],
   "source": [
    "quantum(test_3)"
   ]
  },
  {
   "cell_type": "code",
   "execution_count": 32,
   "metadata": {
    "jupyter": {
     "outputs_hidden": false,
     "source_hidden": false
    },
    "nteract": {
     "transient": {
      "deleting": false
     }
    }
   },
   "outputs": [
    {
     "name": "stdout",
     "output_type": "stream",
     "text": [
      "[*********************100%***********************]  2 of 2 completed\n",
      "Expected annual return: 22.9%\n",
      "Annual volatility: 27.3%\n",
      "Sharpe Ratio: 0.77\n"
     ]
    },
    {
     "data": {
      "text/plain": [
       "OrderedDict([('ACN', 0.43082), ('TSLA', 0.56918)])"
      ]
     },
     "execution_count": 32,
     "metadata": {},
     "output_type": "execute_result"
    }
   ],
   "source": [
    "prices = generate_prices(['ACN', 'TSLA'])\n",
    "Max_Sharpe_port(prices)"
   ]
  },
  {
   "cell_type": "markdown",
   "metadata": {},
   "source": [
    "# Test 2 - Targeted Portfolios"
   ]
  },
  {
   "cell_type": "code",
   "execution_count": 44,
   "metadata": {
    "jupyter": {
     "outputs_hidden": false,
     "source_hidden": false
    },
    "nteract": {
     "transient": {
      "deleting": false
     }
    }
   },
   "outputs": [
    {
     "name": "stdout",
     "output_type": "stream",
     "text": [
      "[*********************100%***********************]  5 of 5 completed\n",
      "Expected annual return: 19.4%\n",
      "Annual volatility: 7.8%\n",
      "Sharpe Ratio: 2.24\n"
     ]
    },
    {
     "data": {
      "text/plain": [
       "OrderedDict([('AAPL', 0.02768),\n",
       "             ('GRUB', 0.1503),\n",
       "             ('NFLX', 0.05022),\n",
       "             ('PFE', 0.02503),\n",
       "             ('ZM', 0.74678)])"
      ]
     },
     "execution_count": 44,
     "metadata": {},
     "output_type": "execute_result"
    }
   ],
   "source": [
    "COVID= [\"ZM\", \"PFE\", \"NFLX\", \"AAPL\", \"GRUB\"]\n",
    "prices = generate_prices(COVID)\n",
    "# cov = risk_models.CovarianceShrinkage(prices).ledoit_wolf()\n",
    "# plotting.plot_covariance(cov, plot_correlation=True)\n",
    "Max_Sharpe_port(prices)"
   ]
  },
  {
   "cell_type": "code",
   "execution_count": 48,
   "metadata": {
    "jupyter": {
     "outputs_hidden": false,
     "source_hidden": false
    },
    "nteract": {
     "transient": {
      "deleting": false
     }
    }
   },
   "outputs": [
    {
     "name": "stdout",
     "output_type": "stream",
     "text": [
      "Optimal: selection [1. 1. 0. 0. 1.], value 5.0006\n",
      "\n",
      "----------------- Full result ---------------------\n",
      "selection\tvalue\t\tprobability\n",
      "---------------------------------------------------\n",
      "[1 1 0 0 1]\t5.0006\t\t0.0833\n",
      "[0 0 1 1 0]\t-0.0003\t\t0.0833\n",
      "[0 1 0 0 1]\t0.0002\t\t0.0833\n",
      "[1 0 1 1 0]\t5.0002\t\t0.0833\n",
      "[0 0 0 1 1]\t-0.0008\t\t0.0833\n",
      "[0 1 1 0 0]\t0.0007\t\t0.0833\n",
      "[1 1 1 0 0]\t5.0011\t\t0.0833\n",
      "[1 0 0 1 1]\t4.9997\t\t0.0833\n",
      "[0 1 0 1 0]\t0.0004\t\t0.0833\n",
      "[1 1 0 1 0]\t5.0009\t\t0.0833\n",
      "[0 0 1 0 1]\t-0.0006\t\t0.0833\n",
      "[1 0 1 0 1]\t4.9999\t\t0.0833\n",
      "[0 0 0 0 0]\t20.0000\t\t0.0000\n",
      "[1 0 0 0 0]\t5.0002\t\t0.0000\n",
      "[0 1 1 1 1]\t20.0003\t\t0.0000\n",
      "[1 1 1 1 1]\t45.0010\t\t0.0000\n",
      "[1 1 0 1 1]\t20.0007\t\t0.0000\n",
      "[0 1 0 1 1]\t5.0001\t\t0.0000\n",
      "[1 0 1 0 0]\t0.0002\t\t0.0000\n",
      "[0 0 1 0 0]\t4.9999\t\t0.0000\n",
      "[0 1 1 1 0]\t5.0006\t\t0.0000\n",
      "[0 0 0 0 1]\t4.9994\t\t0.0000\n",
      "[1 1 1 1 0]\t20.0011\t\t0.0000\n",
      "[1 0 0 0 1]\t-0.0003\t\t0.0000\n",
      "[1 1 1 0 1]\t20.0008\t\t0.0000\n",
      "[0 1 1 0 1]\t5.0003\t\t0.0000\n",
      "[1 0 0 1 0]\t0.0000\t\t0.0000\n",
      "[0 0 0 1 0]\t4.9996\t\t0.0000\n",
      "[1 0 1 1 1]\t19.9999\t\t0.0000\n",
      "[0 0 1 1 1]\t4.9993\t\t0.0000\n",
      "[0 1 0 0 0]\t5.0006\t\t0.0000\n",
      "[1 1 0 0 0]\t0.0010\t\t0.0000\n"
     ]
    }
   ],
   "source": [
    "quantum(COVID)"
   ]
  },
  {
   "cell_type": "code",
   "execution_count": 52,
   "metadata": {
    "jupyter": {
     "outputs_hidden": false,
     "source_hidden": false
    },
    "nteract": {
     "transient": {
      "deleting": false
     }
    }
   },
   "outputs": [
    {
     "name": "stdout",
     "output_type": "stream",
     "text": [
      "[*********************100%***********************]  3 of 3 completed\n",
      "Expected annual return: 12.1%\n",
      "Annual volatility: 8.7%\n",
      "Sharpe Ratio: 1.16\n"
     ]
    },
    {
     "data": {
      "text/plain": [
       "OrderedDict([('AAPL', 0.04597), ('GRUB', 0.17397), ('ZM', 0.78007)])"
      ]
     },
     "execution_count": 52,
     "metadata": {},
     "output_type": "execute_result"
    }
   ],
   "source": [
    "prices = generate_prices(['AAPL', \"GRUB\", 'ZM'])\n",
    "Max_Sharpe_port(prices)"
   ]
  },
  {
   "cell_type": "code",
   "execution_count": 137,
   "metadata": {
    "jupyter": {
     "outputs_hidden": false,
     "source_hidden": false
    },
    "nteract": {
     "transient": {
      "deleting": false
     }
    },
    "scrolled": true
   },
   "outputs": [],
   "source": []
  },
  {
   "cell_type": "code",
   "execution_count": null,
   "metadata": {
    "jupyter": {
     "outputs_hidden": false,
     "source_hidden": false
    },
    "nteract": {
     "transient": {
      "deleting": false
     }
    },
    "scrolled": true
   },
   "outputs": [],
   "source": []
  },
  {
   "cell_type": "code",
   "execution_count": null,
   "metadata": {
    "jupyter": {
     "outputs_hidden": false,
     "source_hidden": false
    },
    "nteract": {
     "transient": {
      "deleting": false
     }
    }
   },
   "outputs": [],
   "source": []
  },
  {
   "cell_type": "code",
   "execution_count": null,
   "metadata": {
    "jupyter": {
     "outputs_hidden": false,
     "source_hidden": false
    },
    "nteract": {
     "transient": {
      "deleting": false
     }
    }
   },
   "outputs": [],
   "source": []
  },
  {
   "cell_type": "code",
   "execution_count": null,
   "metadata": {
    "jupyter": {
     "outputs_hidden": false,
     "source_hidden": false
    },
    "nteract": {
     "transient": {
      "deleting": false
     }
    }
   },
   "outputs": [],
   "source": []
  },
  {
   "cell_type": "code",
   "execution_count": null,
   "metadata": {
    "collapsed": true,
    "jupyter": {
     "outputs_hidden": false,
     "source_hidden": false
    },
    "nteract": {
     "transient": {
      "deleting": false
     }
    }
   },
   "outputs": [],
   "source": [
    "get_ipython().system('pip install alpaca-trade-api')\n",
    "\n",
    "import alpaca_trade_api as tradeapi\n",
    "# from alpaca_trade_api.rest import TimeFrame\n",
    "# import pandas as pd\n",
    "\n",
    "APCA_API_KEY_ID = ''\n",
    "APCA_API_SECRET_KEY = ''\n",
    "APCA_API_BASE_URL = 'https://paper-api.alpaca.markets'\n",
    "\n",
    "# Setting up API and account details\n",
    "api = tradeapi.REST(\n",
    "    APCA_API_KEY_ID,\n",
    "    APCA_API_SECRET_KEY,\n",
    "    base_url=APCA_API_BASE_URL,\n",
    "    api_version='v2')\n",
    "\n",
    "def market_order_from_list(orderList):\n",
    "    \"\"\"\n",
    "    Creates live market buy orders which expire at end of the day from a list of tuples in the form:\n",
    "    orderList = [('AAPL', '10'), ('JPM', '5')]\n",
    "    \"\"\"\n",
    "    for ticker, amount in orderList:\n",
    "        api.submit_order(\n",
    "            symbol=f'{ticker}',\n",
    "            side='buy',\n",
    "            type='market',\n",
    "            qty=f'{amount}',\n",
    "            # TODO: Do some calculation to get max amount under some percentage of current cash\n",
    "            time_in_force='day'\n",
    "        )\n",
    "\n",
    "market_order_from_list(orderList)\n",
    "\n",
    "api.list_orders()\n",
    "api.cancel_all_orders()\n"
   ]
  }
 ],
 "metadata": {
  "kernelspec": {
   "display_name": "Python 3",
   "language": "python",
   "name": "python3"
  },
  "language_info": {
   "codemirror_mode": {
    "name": "ipython",
    "version": 3
   },
   "file_extension": ".py",
   "mimetype": "text/x-python",
   "name": "python",
   "nbconvert_exporter": "python",
   "pygments_lexer": "ipython3",
   "version": "3.7.10"
  }
 },
 "nbformat": 4,
 "nbformat_minor": 1
}
