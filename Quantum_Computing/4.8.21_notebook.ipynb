{
 "cells": [
  {
   "cell_type": "code",
   "execution_count": 5,
   "metadata": {
    "jupyter": {
     "outputs_hidden": false,
     "source_hidden": false
    },
    "nteract": {
     "transient": {
      "deleting": false
     }
    }
   },
   "outputs": [
    {
     "name": "stdout",
     "output_type": "stream",
     "text": [
      "Requirement already satisfied: yfinance in /srv/conda/envs/notebook/lib/python3.7/site-packages (0.1.55)\n",
      "Requirement already satisfied: multitasking>=0.0.7 in /srv/conda/envs/notebook/lib/python3.7/site-packages (from yfinance) (0.0.9)\n",
      "Requirement already satisfied: numpy>=1.15 in /srv/conda/envs/notebook/lib/python3.7/site-packages (from yfinance) (1.20.1)\n",
      "Requirement already satisfied: pandas>=0.24 in /srv/conda/envs/notebook/lib/python3.7/site-packages (from yfinance) (1.2.3)\n",
      "Requirement already satisfied: requests>=2.20 in /srv/conda/envs/notebook/lib/python3.7/site-packages (from yfinance) (2.25.1)\n",
      "Requirement already satisfied: lxml>=4.5.1 in /srv/conda/envs/notebook/lib/python3.7/site-packages (from yfinance) (4.6.3)\n",
      "Requirement already satisfied: pytz>=2017.3 in /srv/conda/envs/notebook/lib/python3.7/site-packages (from pandas>=0.24->yfinance) (2021.1)\n",
      "Requirement already satisfied: python-dateutil>=2.7.3 in /srv/conda/envs/notebook/lib/python3.7/site-packages (from pandas>=0.24->yfinance) (2.8.1)\n",
      "Requirement already satisfied: six>=1.5 in /srv/conda/envs/notebook/lib/python3.7/site-packages (from python-dateutil>=2.7.3->pandas>=0.24->yfinance) (1.15.0)\n",
      "Requirement already satisfied: chardet<5,>=3.0.2 in /srv/conda/envs/notebook/lib/python3.7/site-packages (from requests>=2.20->yfinance) (4.0.0)\n",
      "Requirement already satisfied: idna<3,>=2.5 in /srv/conda/envs/notebook/lib/python3.7/site-packages (from requests>=2.20->yfinance) (2.10)\n",
      "Requirement already satisfied: certifi>=2017.4.17 in /srv/conda/envs/notebook/lib/python3.7/site-packages (from requests>=2.20->yfinance) (2020.12.5)\n",
      "Requirement already satisfied: urllib3<1.27,>=1.21.1 in /srv/conda/envs/notebook/lib/python3.7/site-packages (from requests>=2.20->yfinance) (1.26.3)\n",
      "Requirement already satisfied: PyPortfolioOpt in /srv/conda/envs/notebook/lib/python3.7/site-packages (1.4.1)\n",
      "Requirement already satisfied: numpy<2.0,>=1.12 in /srv/conda/envs/notebook/lib/python3.7/site-packages (from PyPortfolioOpt) (1.20.1)\n",
      "Requirement already satisfied: scipy<2.0,>=1.3 in /srv/conda/envs/notebook/lib/python3.7/site-packages (from PyPortfolioOpt) (1.6.1)\n",
      "Requirement already satisfied: cvxpy<2.0.0,>=1.1.10 in /srv/conda/envs/notebook/lib/python3.7/site-packages (from PyPortfolioOpt) (1.1.12)\n",
      "Requirement already satisfied: pandas>=0.19 in /srv/conda/envs/notebook/lib/python3.7/site-packages (from PyPortfolioOpt) (1.2.3)\n",
      "Requirement already satisfied: osqp>=0.4.1 in /srv/conda/envs/notebook/lib/python3.7/site-packages (from cvxpy<2.0.0,>=1.1.10->PyPortfolioOpt) (0.6.2.post0)\n",
      "Requirement already satisfied: ecos>=2 in /srv/conda/envs/notebook/lib/python3.7/site-packages (from cvxpy<2.0.0,>=1.1.10->PyPortfolioOpt) (2.0.7.post1)\n",
      "Requirement already satisfied: scs>=1.1.6 in /srv/conda/envs/notebook/lib/python3.7/site-packages (from cvxpy<2.0.0,>=1.1.10->PyPortfolioOpt) (2.1.2)\n",
      "Requirement already satisfied: qdldl in /srv/conda/envs/notebook/lib/python3.7/site-packages (from osqp>=0.4.1->cvxpy<2.0.0,>=1.1.10->PyPortfolioOpt) (0.1.5.post0)\n",
      "Requirement already satisfied: pytz>=2017.3 in /srv/conda/envs/notebook/lib/python3.7/site-packages (from pandas>=0.19->PyPortfolioOpt) (2021.1)\n",
      "Requirement already satisfied: python-dateutil>=2.7.3 in /srv/conda/envs/notebook/lib/python3.7/site-packages (from pandas>=0.19->PyPortfolioOpt) (2.8.1)\n",
      "Requirement already satisfied: six>=1.5 in /srv/conda/envs/notebook/lib/python3.7/site-packages (from python-dateutil>=2.7.3->pandas>=0.19->PyPortfolioOpt) (1.15.0)\n",
      "Requirement already satisfied: cvxopt in /srv/conda/envs/notebook/lib/python3.7/site-packages (1.2.6)\n",
      "Requirement already satisfied: cvxpy in /srv/conda/envs/notebook/lib/python3.7/site-packages (1.1.12)\n",
      "Requirement already satisfied: osqp>=0.4.1 in /srv/conda/envs/notebook/lib/python3.7/site-packages (from cvxpy) (0.6.2.post0)\n",
      "Requirement already satisfied: ecos>=2 in /srv/conda/envs/notebook/lib/python3.7/site-packages (from cvxpy) (2.0.7.post1)\n",
      "Requirement already satisfied: scs>=1.1.6 in /srv/conda/envs/notebook/lib/python3.7/site-packages (from cvxpy) (2.1.2)\n",
      "Requirement already satisfied: scipy>=1.1.0 in /srv/conda/envs/notebook/lib/python3.7/site-packages (from cvxpy) (1.6.1)\n",
      "Requirement already satisfied: numpy>=1.15 in /srv/conda/envs/notebook/lib/python3.7/site-packages (from cvxpy) (1.20.1)\n",
      "Requirement already satisfied: qdldl in /srv/conda/envs/notebook/lib/python3.7/site-packages (from osqp>=0.4.1->cvxpy) (0.1.5.post0)\n",
      "Requirement already satisfied: matplotlib in /srv/conda/envs/notebook/lib/python3.7/site-packages (3.4.1)\n",
      "Requirement already satisfied: pillow>=6.2.0 in /srv/conda/envs/notebook/lib/python3.7/site-packages (from matplotlib) (8.2.0)\n",
      "Requirement already satisfied: numpy>=1.16 in /srv/conda/envs/notebook/lib/python3.7/site-packages (from matplotlib) (1.20.1)\n",
      "Requirement already satisfied: python-dateutil>=2.7 in /srv/conda/envs/notebook/lib/python3.7/site-packages (from matplotlib) (2.8.1)\n",
      "Requirement already satisfied: cycler>=0.10 in /srv/conda/envs/notebook/lib/python3.7/site-packages (from matplotlib) (0.10.0)\n",
      "Requirement already satisfied: pyparsing>=2.2.1 in /srv/conda/envs/notebook/lib/python3.7/site-packages (from matplotlib) (2.4.7)\n",
      "Requirement already satisfied: kiwisolver>=1.0.1 in /srv/conda/envs/notebook/lib/python3.7/site-packages (from matplotlib) (1.3.1)\n",
      "Requirement already satisfied: six in /srv/conda/envs/notebook/lib/python3.7/site-packages (from cycler>=0.10->matplotlib) (1.15.0)\n",
      "Requirement already satisfied: sklearn in /srv/conda/envs/notebook/lib/python3.7/site-packages (0.0)\n",
      "Requirement already satisfied: scikit-learn in /srv/conda/envs/notebook/lib/python3.7/site-packages (from sklearn) (0.24.1)\n",
      "Requirement already satisfied: threadpoolctl>=2.0.0 in /srv/conda/envs/notebook/lib/python3.7/site-packages (from scikit-learn->sklearn) (2.1.0)\n",
      "Requirement already satisfied: scipy>=0.19.1 in /srv/conda/envs/notebook/lib/python3.7/site-packages (from scikit-learn->sklearn) (1.6.1)\n",
      "Requirement already satisfied: numpy>=1.13.3 in /srv/conda/envs/notebook/lib/python3.7/site-packages (from scikit-learn->sklearn) (1.20.1)\n",
      "Requirement already satisfied: joblib>=0.11 in /srv/conda/envs/notebook/lib/python3.7/site-packages (from scikit-learn->sklearn) (1.0.1)\n",
      "Requirement already satisfied: qiskit in /srv/conda/envs/notebook/lib/python3.7/site-packages (0.25.0)\n",
      "Requirement already satisfied: qiskit-terra==0.17.0 in /srv/conda/envs/notebook/lib/python3.7/site-packages (from qiskit) (0.17.0)\n",
      "Requirement already satisfied: qiskit-ignis==0.6.0 in /srv/conda/envs/notebook/lib/python3.7/site-packages (from qiskit) (0.6.0)\n",
      "Requirement already satisfied: qiskit-aer==0.8.0 in /srv/conda/envs/notebook/lib/python3.7/site-packages (from qiskit) (0.8.0)\n",
      "Requirement already satisfied: qiskit-ibmq-provider==0.12.2 in /srv/conda/envs/notebook/lib/python3.7/site-packages (from qiskit) (0.12.2)\n",
      "Requirement already satisfied: qiskit-aqua==0.9.0 in /srv/conda/envs/notebook/lib/python3.7/site-packages (from qiskit) (0.9.0)\n",
      "Requirement already satisfied: pybind11>=2.6 in /srv/conda/envs/notebook/lib/python3.7/site-packages (from qiskit-aer==0.8.0->qiskit) (2.6.2)\n",
      "Requirement already satisfied: scipy>=1.0 in /srv/conda/envs/notebook/lib/python3.7/site-packages (from qiskit-aer==0.8.0->qiskit) (1.6.1)\n",
      "Requirement already satisfied: numpy>=1.16.3 in /srv/conda/envs/notebook/lib/python3.7/site-packages (from qiskit-aer==0.8.0->qiskit) (1.20.1)\n",
      "Requirement already satisfied: dlx<=1.0.4 in /srv/conda/envs/notebook/lib/python3.7/site-packages (from qiskit-aqua==0.9.0->qiskit) (1.0.4)\n",
      "Requirement already satisfied: retworkx<=0.8.0,>=0.7.0 in /srv/conda/envs/notebook/lib/python3.7/site-packages (from qiskit-aqua==0.9.0->qiskit) (0.8.0)\n",
      "Requirement already satisfied: psutil<=5.8.0,>=5 in /srv/conda/envs/notebook/lib/python3.7/site-packages (from qiskit-aqua==0.9.0->qiskit) (5.8.0)\n",
      "Requirement already satisfied: fastdtw<=0.3.4 in /srv/conda/envs/notebook/lib/python3.7/site-packages (from qiskit-aqua==0.9.0->qiskit) (0.3.4)\n",
      "Requirement already satisfied: sympy<=1.7.1,>=1.3 in /srv/conda/envs/notebook/lib/python3.7/site-packages (from qiskit-aqua==0.9.0->qiskit) (1.7.1)\n",
      "Requirement already satisfied: setuptools>=40.1.0 in /srv/conda/envs/notebook/lib/python3.7/site-packages (from qiskit-aqua==0.9.0->qiskit) (49.6.0.post20210108)\n",
      "Requirement already satisfied: h5py<=3.1.0 in /srv/conda/envs/notebook/lib/python3.7/site-packages (from qiskit-aqua==0.9.0->qiskit) (3.1.0)\n",
      "Requirement already satisfied: quandl<=3.6.0 in /srv/conda/envs/notebook/lib/python3.7/site-packages (from qiskit-aqua==0.9.0->qiskit) (3.6.0)\n",
      "Requirement already satisfied: docplex<=2.20.204 in /srv/conda/envs/notebook/lib/python3.7/site-packages (from qiskit-aqua==0.9.0->qiskit) (2.20.204)\n",
      "Requirement already satisfied: scikit-learn<=0.24.1,>=0.20.0 in /srv/conda/envs/notebook/lib/python3.7/site-packages (from qiskit-aqua==0.9.0->qiskit) (0.24.1)\n",
      "Requirement already satisfied: pandas<=1.2.3 in /srv/conda/envs/notebook/lib/python3.7/site-packages (from qiskit-aqua==0.9.0->qiskit) (1.2.3)\n",
      "Requirement already satisfied: yfinance<=0.1.55 in /srv/conda/envs/notebook/lib/python3.7/site-packages (from qiskit-aqua==0.9.0->qiskit) (0.1.55)\n",
      "Requirement already satisfied: nest-asyncio!=1.1.0,>=1.0.0 in /srv/conda/envs/notebook/lib/python3.7/site-packages (from qiskit-ibmq-provider==0.12.2->qiskit) (1.4.3)\n",
      "Requirement already satisfied: websockets>=8 in /srv/conda/envs/notebook/lib/python3.7/site-packages (from qiskit-ibmq-provider==0.12.2->qiskit) (8.1)\n",
      "Requirement already satisfied: urllib3>=1.21.1 in /srv/conda/envs/notebook/lib/python3.7/site-packages (from qiskit-ibmq-provider==0.12.2->qiskit) (1.26.3)\n",
      "Requirement already satisfied: requests-ntlm>=1.1.0 in /srv/conda/envs/notebook/lib/python3.7/site-packages (from qiskit-ibmq-provider==0.12.2->qiskit) (1.1.0)\n",
      "Requirement already satisfied: python-dateutil>=2.8.0 in /srv/conda/envs/notebook/lib/python3.7/site-packages (from qiskit-ibmq-provider==0.12.2->qiskit) (2.8.1)\n",
      "Requirement already satisfied: requests>=2.19 in /srv/conda/envs/notebook/lib/python3.7/site-packages (from qiskit-ibmq-provider==0.12.2->qiskit) (2.25.1)\n",
      "Requirement already satisfied: jsonschema>=2.6 in /srv/conda/envs/notebook/lib/python3.7/site-packages (from qiskit-terra==0.17.0->qiskit) (3.2.0)\n",
      "Requirement already satisfied: fastjsonschema>=2.10 in /srv/conda/envs/notebook/lib/python3.7/site-packages (from qiskit-terra==0.17.0->qiskit) (2.15.0)\n",
      "Requirement already satisfied: dill>=0.3 in /srv/conda/envs/notebook/lib/python3.7/site-packages (from qiskit-terra==0.17.0->qiskit) (0.3.3)\n",
      "Requirement already satisfied: ply>=3.10 in /srv/conda/envs/notebook/lib/python3.7/site-packages (from qiskit-terra==0.17.0->qiskit) (3.11)\n",
      "Requirement already satisfied: python-constraint>=1.4 in /srv/conda/envs/notebook/lib/python3.7/site-packages (from qiskit-terra==0.17.0->qiskit) (1.4.0)\n",
      "Requirement already satisfied: six in /srv/conda/envs/notebook/lib/python3.7/site-packages (from docplex<=2.20.204->qiskit-aqua==0.9.0->qiskit) (1.15.0)\n",
      "Requirement already satisfied: cached-property in /srv/conda/envs/notebook/lib/python3.7/site-packages (from h5py<=3.1.0->qiskit-aqua==0.9.0->qiskit) (1.5.2)\n",
      "Requirement already satisfied: importlib-metadata in /srv/conda/envs/notebook/lib/python3.7/site-packages (from jsonschema>=2.6->qiskit-terra==0.17.0->qiskit) (3.4.0)\n",
      "Requirement already satisfied: attrs>=17.4.0 in /srv/conda/envs/notebook/lib/python3.7/site-packages (from jsonschema>=2.6->qiskit-terra==0.17.0->qiskit) (20.3.0)\n",
      "Requirement already satisfied: pyrsistent>=0.14.0 in /srv/conda/envs/notebook/lib/python3.7/site-packages (from jsonschema>=2.6->qiskit-terra==0.17.0->qiskit) (0.17.3)\n",
      "Requirement already satisfied: pytz>=2017.3 in /srv/conda/envs/notebook/lib/python3.7/site-packages (from pandas<=1.2.3->qiskit-aqua==0.9.0->qiskit) (2021.1)\n",
      "Requirement already satisfied: more-itertools in /srv/conda/envs/notebook/lib/python3.7/site-packages (from quandl<=3.6.0->qiskit-aqua==0.9.0->qiskit) (8.7.0)\n",
      "Requirement already satisfied: inflection>=0.3.1 in /srv/conda/envs/notebook/lib/python3.7/site-packages (from quandl<=3.6.0->qiskit-aqua==0.9.0->qiskit) (0.5.1)\n",
      "Requirement already satisfied: idna<3,>=2.5 in /srv/conda/envs/notebook/lib/python3.7/site-packages (from requests>=2.19->qiskit-ibmq-provider==0.12.2->qiskit) (2.10)\n",
      "Requirement already satisfied: certifi>=2017.4.17 in /srv/conda/envs/notebook/lib/python3.7/site-packages (from requests>=2.19->qiskit-ibmq-provider==0.12.2->qiskit) (2020.12.5)\n",
      "Requirement already satisfied: chardet<5,>=3.0.2 in /srv/conda/envs/notebook/lib/python3.7/site-packages (from requests>=2.19->qiskit-ibmq-provider==0.12.2->qiskit) (4.0.0)\n",
      "Requirement already satisfied: ntlm-auth>=1.0.2 in /srv/conda/envs/notebook/lib/python3.7/site-packages (from requests-ntlm>=1.1.0->qiskit-ibmq-provider==0.12.2->qiskit) (1.5.0)\n",
      "Requirement already satisfied: cryptography>=1.3 in /srv/conda/envs/notebook/lib/python3.7/site-packages (from requests-ntlm>=1.1.0->qiskit-ibmq-provider==0.12.2->qiskit) (3.4.4)\n",
      "Requirement already satisfied: cffi>=1.12 in /srv/conda/envs/notebook/lib/python3.7/site-packages (from cryptography>=1.3->requests-ntlm>=1.1.0->qiskit-ibmq-provider==0.12.2->qiskit) (1.14.5)\n",
      "Requirement already satisfied: pycparser in /srv/conda/envs/notebook/lib/python3.7/site-packages (from cffi>=1.12->cryptography>=1.3->requests-ntlm>=1.1.0->qiskit-ibmq-provider==0.12.2->qiskit) (2.20)\n",
      "Requirement already satisfied: threadpoolctl>=2.0.0 in /srv/conda/envs/notebook/lib/python3.7/site-packages (from scikit-learn<=0.24.1,>=0.20.0->qiskit-aqua==0.9.0->qiskit) (2.1.0)\n",
      "Requirement already satisfied: joblib>=0.11 in /srv/conda/envs/notebook/lib/python3.7/site-packages (from scikit-learn<=0.24.1,>=0.20.0->qiskit-aqua==0.9.0->qiskit) (1.0.1)\n",
      "Requirement already satisfied: mpmath>=0.19 in /srv/conda/envs/notebook/lib/python3.7/site-packages (from sympy<=1.7.1,>=1.3->qiskit-aqua==0.9.0->qiskit) (1.2.1)\n",
      "Requirement already satisfied: multitasking>=0.0.7 in /srv/conda/envs/notebook/lib/python3.7/site-packages (from yfinance<=0.1.55->qiskit-aqua==0.9.0->qiskit) (0.0.9)\n",
      "Requirement already satisfied: lxml>=4.5.1 in /srv/conda/envs/notebook/lib/python3.7/site-packages (from yfinance<=0.1.55->qiskit-aqua==0.9.0->qiskit) (4.6.3)\n",
      "Requirement already satisfied: typing-extensions>=3.6.4 in /srv/conda/envs/notebook/lib/python3.7/site-packages (from importlib-metadata->jsonschema>=2.6->qiskit-terra==0.17.0->qiskit) (3.7.4.3)\n",
      "Requirement already satisfied: zipp>=0.5 in /srv/conda/envs/notebook/lib/python3.7/site-packages (from importlib-metadata->jsonschema>=2.6->qiskit-terra==0.17.0->qiskit) (3.4.0)\n"
     ]
    },
    {
     "name": "stderr",
     "output_type": "stream",
     "text": [
      "/srv/conda/envs/notebook/lib/python3.7/site-packages/qiskit/finance/__init__.py:50: DeprecationWarning: The package qiskit.finance is deprecated. It was moved/refactored to qiskit_finance (pip install qiskit-finance). For more information see <https://github.com/Qiskit/qiskit-aqua/blob/master/README.md#migration-guide>\n",
      "  warn_package('finance', 'qiskit_finance', 'qiskit-finance')\n"
     ]
    }
   ],
   "source": [
    "get_ipython().system('pip install yfinance')\n",
    "get_ipython().system('pip install PyPortfolioOpt')\n",
    "get_ipython().system('pip install cvxopt')\n",
    "get_ipython().system('pip install cvxpy')\n",
    "get_ipython().system('pip install matplotlib')\n",
    "get_ipython().system('pip install sklearn')\n",
    "import pypfopt\n",
    "import yfinance as yf\n",
    "import matplotlib.pyplot as plt\n",
    "import pandas as pd\n",
    "import numpy as np\n",
    "from pypfopt import risk_models\n",
    "from pypfopt import plotting\n",
    "from pypfopt import expected_returns\n",
    "from pypfopt import EfficientFrontier\n",
    "from pypfopt import DiscreteAllocation\n",
    "from pypfopt import objective_functions\n",
    "from pypfopt import DiscreteAllocation\n",
    "get_ipython().system('pip install qiskit')\n",
    "get_ipython().run_line_magic('matplotlib', 'inline')\n",
    "from qiskit.finance import QiskitFinanceError\n",
    "from qiskit.finance.data_providers import *\n",
    "import warnings\n",
    "warnings.filterwarnings(\"ignore\", category=DeprecationWarning)\n",
    "import datetime\n",
    "import matplotlib.pyplot as plt\n",
    "from pandas.plotting import register_matplotlib_converters\n",
    "register_matplotlib_converters()\n",
    "\n",
    "from qiskit import Aer\n",
    "from qiskit.circuit.library import TwoLocal\n",
    "from qiskit.aqua import QuantumInstance\n",
    "from qiskit.finance.applications.ising import portfolio\n",
    "from qiskit.optimization.applications.ising.common import sample_most_likely\n",
    "from qiskit.finance.data_providers import RandomDataProvider\n",
    "from qiskit.aqua.algorithms import VQE, QAOA, NumPyMinimumEigensolver\n",
    "from qiskit.aqua.components.optimizers import COBYLA\n",
    "import numpy as np\n",
    "import matplotlib.pyplot as plt\n",
    "import datetime"
   ]
  },
  {
   "cell_type": "code",
   "execution_count": 17,
   "metadata": {
    "jupyter": {
     "outputs_hidden": false,
     "source_hidden": false
    },
    "nteract": {
     "transient": {
      "deleting": false
     }
    }
   },
   "outputs": [],
   "source": [
    "def returns(prices):\n",
    "    mu = expected_returns.capm_return(prices)\n",
    "    return mu\n",
    "\n",
    "def min_variance(prices):\n",
    "    # Long/Short Min Variance Portfolio\n",
    "    S = risk_models.CovarianceShrinkage(prices).ledoit_wolf()\n",
    "    ef = EfficientFrontier(None, S, weight_bounds=(None, None))\n",
    "    ef.min_volatility()\n",
    "    weights = ef.clean_weights()\n",
    "    ef.portfolio_performance(verbose=True);\n",
    "    return(weights)\n",
    "\n",
    "def Max_Sharpe_port(prices):\n",
    "    # Max Sharpe Portfolio\n",
    "    mu = returns(prices)\n",
    "    S = risk_models.CovarianceShrinkage(prices).ledoit_wolf()\n",
    "    ef = EfficientFrontier(mu, S) \n",
    "    ef.max_sharpe()\n",
    "    weights = ef.clean_weights()\n",
    "    ef.portfolio_performance(verbose=True)\n",
    "    return weights\n",
    "\n",
    "risk = 0.15\n",
    "def return_given_risk(prices):\n",
    "    mu = returns(prices)\n",
    "    S = risk_models.CovarianceShrinkage(prices).ledoit_wolf()\n",
    "    ef = EfficientFrontier(mu, S)\n",
    "    ef.add_objective(objective_functions.L2_reg)  # gamme is the tuning parameter\n",
    "    ef.efficient_risk(0.15)\n",
    "    weights = ef.clean_weights()\n",
    "    ef.portfolio_performance(verbose=True)\n",
    "    return weights\n",
    "\n",
    "def minimize_risk(prices):\n",
    "    mu = returns(prices)\n",
    "    S = risk_models.CovarianceShrinkage(prices).ledoit_wolf()\n",
    "    ef = EfficientFrontier(mu, S, weight_bounds=(None, None))\n",
    "    ef.add_objective(objective_functions.L2_reg)\n",
    "    ef.efficient_return(target_return=0.07, market_neutral=True)\n",
    "    weights = ef.clean_weights()\n",
    "    ef.portfolio_performance(verbose=True);\n",
    "    return weights\n",
    "\n",
    "def generate_prices(tickers):\n",
    "    tickers = tickers \n",
    "    ohlc = yf.download(tickers, end=\"2020-12-23\")\n",
    "    prices = ohlc[\"Adj Close\"].dropna(how=\"all\")\n",
    "    return(prices)\n",
    "\n",
    "def index_to_selection(i, num_assets):\n",
    "    s = \"{0:b}\".format(i).rjust(num_assets)\n",
    "    x = np.array([1 if s[i]=='1' else 0 for i in reversed(range(num_assets))])\n",
    "    return x\n",
    "\n",
    "def print_result(result):\n",
    "    selection = sample_most_likely(result.eigenstate)\n",
    "    value = portfolio.portfolio_value(selection, mu, sigma, q, budget, penalty)\n",
    "    print('Optimal: selection {}, value {:.4f}'.format(selection, value))\n",
    "\n",
    "    eigenvector = result.eigenstate if isinstance(result.eigenstate, np.ndarray) else result.eigenstate.to_matrix()\n",
    "    probabilities = np.abs(eigenvector)**2\n",
    "    i_sorted = reversed(np.argsort(probabilities))\n",
    "    print('\\n----------------- Full result ---------------------')\n",
    "    print('selection\\tvalue\\t\\tprobability')\n",
    "    print('---------------------------------------------------')\n",
    "    for i in i_sorted:\n",
    "        x = index_to_selection(i, num_assets)\n",
    "        value = portfolio.portfolio_value(x, mu, sigma, q, budget, penalty)\n",
    "        probability = probabilities[i]\n",
    "        print('%10s\\t%.4f\\t\\t%.4f' %(x, value, probability))\n",
    "\n",
    "# Discrete Allocation\n",
    "# latest_prices = prices.iloc[-1]  # prices as of the day you are allocating\n",
    "# da = DiscreteAllocation(weights, latest_prices, total_portfolio_value=20000, short_ratio=0.3)\n",
    "# alloc, leftover = da.lp_portfolio()\n",
    "# print(f\"Discrete allocation performed with ${leftover:.2f} leftover\")\n",
    "# alloc\n",
    "\n",
    "# VQE Backend - Shitty Results , erratic convergence pattern\n",
    "# backend = Aer.get_backend('statevector_simulator')\n",
    "# seed = 50\n",
    "\n",
    "# cobyla = COBYLA()\n",
    "# cobyla.set_options(maxiter=500)\n",
    "# ry = TwoLocal(qubitOp.num_qubits, 'ry', 'cz', reps=3, entanglement='full')\n",
    "# vqe = VQE(qubitOp, ry, cobyla)\n",
    "# vqe.random_seed = seed\n",
    "\n",
    "# quantum_instance = QuantumInstance(backend=backend, seed_simulator=seed, seed_transpiler=seed)\n",
    "\n",
    "# result = vqe.run(quantum_instance)\n",
    "\n",
    "# print_result(result)\n",
    "\n",
    "def quantum(tickers):\n",
    "    data = YahooDataProvider(\n",
    "                     tickers = tickers,\n",
    "#                      start=datetime.datetime(2015,3,23),\n",
    "                     end=datetime.datetime(2020, 3, 23))\n",
    "    data.run()\n",
    "\n",
    "    num_assets = 5\n",
    "\n",
    "    mu = data.get_period_return_mean_vector()\n",
    "    sigma = data.get_period_return_covariance_matrix()\n",
    "\n",
    "    q = 0.5                   # set risk factor\n",
    "    budget = num_assets // 2  # set budget\n",
    "    penalty = num_assets      # set parameter to scale the budget penalty term\n",
    "\n",
    "    qubitOp, offset = portfolio.get_operator(mu, sigma, q, budget, penalty)\n",
    "\n",
    "    backend = Aer.get_backend('statevector_simulator')\n",
    "    seed = 50\n",
    "\n",
    "    cobyla = COBYLA()\n",
    "    cobyla.set_options(maxiter=250)\n",
    "    qaoa = QAOA(qubitOp, cobyla, 3)\n",
    "\n",
    "    qaoa.random_seed = seed\n",
    "\n",
    "    quantum_instance = QuantumInstance(backend=backend, seed_simulator=seed, seed_transpiler=seed)\n",
    "\n",
    "    result = qaoa.run(quantum_instance)\n",
    "\n",
    "    print_result(result)"
   ]
  },
  {
   "cell_type": "code",
   "execution_count": null,
   "metadata": {},
   "outputs": [],
   "source": [
    "# sorted by top AUM\n",
    "\n",
    "tech = ['QQQ', 'VGT', 'XLK', 'ARKK', 'FDN'] \n",
    "healthcare = ['XLV', 'VHT','IBB','ARKG','IHI']\n",
    "financials = ['XLF', 'VFH', 'KRE', 'KBE', 'FAS']\n",
    "real_estate = ['VNQ', 'SCHH', 'VNQI', 'IYR', 'REET']\n",
    "energy = ['XLE', 'ICLN', 'AMLP', 'VDE', 'XOP']\n",
    "materials = ['GDX', 'XLB', 'GDXJ', 'GUNR', 'VAW']\n",
    "consumer = ['XLY', 'XLC', 'VCR', 'PEJ', 'FXD']\n",
    "industrials = ['XLI', 'VIS', 'JETS', 'ITA', 'IYT']\n",
    "telecom = ['VOX', 'NXTG', 'FCOM', 'IYZ', 'IXP']\n",
    "consumer_staples = ['XLP', 'VDC', 'IEV', 'FSTA', 'IYK']\n",
    "utilities = ['XLU', 'VPU', 'IGF', 'NFRA', 'PAVE']\n",
    "\n",
    "all_industries = [\"MSFT\", \"AMZN\", \"KO\", \"MA\", \"COST\",\n",
    "           \"LUV\", \"XOM\", \"PFE\", \"JPM\", \"UNH\", \n",
    "           \"ACN\", \"DIS\", \"GILD\", \"F\", \"TSLA\"]"
   ]
  },
  {
   "cell_type": "markdown",
   "metadata": {},
   "source": [
    "## Test 1: Cross-Industry Portfolios"
   ]
  },
  {
   "cell_type": "code",
   "execution_count": 7,
   "metadata": {},
   "outputs": [
    {
     "name": "stdout",
     "output_type": "stream",
     "text": [
      "[*********************100%***********************]  5 of 5 completed\n",
      "Expected annual return: 23.2%\n",
      "Annual volatility: 15.1%\n",
      "Sharpe Ratio: 1.41\n"
     ]
    },
    {
     "data": {
      "text/plain": [
       "OrderedDict([('AMZN', 0.20923),\n",
       "             ('COST', 0.11975),\n",
       "             ('KO', 0.11957),\n",
       "             ('MA', 0.46735),\n",
       "             ('MSFT', 0.0841)])"
      ]
     },
     "execution_count": 7,
     "metadata": {},
     "output_type": "execute_result"
    }
   ],
   "source": [
    "# Test 1 \n",
    "\n",
    "# Classical Portfolio\n",
    "test1 = [\"MSFT\", \"AMZN\", \"KO\", \"MA\", \"COST\"]\n",
    "prices = generate_prices(test1)\n",
    "# cov = risk_models.CovarianceShrinkage(prices).ledoit_wolf()\n",
    "# plotting.plot_covariance(cov, plot_correlation=True)\n",
    "Max_Sharpe_port(prices)"
   ]
  },
  {
   "cell_type": "code",
   "execution_count": 26,
   "metadata": {},
   "outputs": [
    {
     "name": "stdout",
     "output_type": "stream",
     "text": [
      "Optimal: selection [0. 0. 1. 0. 1.], value -0.0006\n",
      "\n",
      "----------------- Full result ---------------------\n",
      "selection\tvalue\t\tprobability\n",
      "---------------------------------------------------\n",
      "[0 0 1 0 1]\t-0.0006\t\t0.0892\n",
      "[0 0 1 1 0]\t-0.0003\t\t0.0892\n",
      "[1 0 1 0 0]\t0.0002\t\t0.0891\n",
      "[0 1 1 0 0]\t0.0007\t\t0.0890\n",
      "[0 0 0 1 1]\t-0.0008\t\t0.0889\n",
      "[1 0 0 0 1]\t-0.0003\t\t0.0888\n",
      "[1 0 0 1 0]\t0.0000\t\t0.0888\n",
      "[0 1 0 0 1]\t0.0002\t\t0.0888\n",
      "[0 1 0 1 0]\t0.0004\t\t0.0887\n",
      "[1 1 0 0 0]\t0.0010\t\t0.0887\n",
      "[0 0 0 0 0]\t20.0000\t\t0.0112\n",
      "[0 0 1 1 1]\t4.9993\t\t0.0069\n",
      "[1 0 1 1 0]\t5.0002\t\t0.0069\n",
      "[1 0 1 0 1]\t4.9999\t\t0.0069\n",
      "[0 1 1 0 1]\t5.0003\t\t0.0069\n",
      "[0 1 1 1 0]\t5.0006\t\t0.0069\n",
      "[1 1 1 0 0]\t5.0011\t\t0.0069\n",
      "[1 1 0 1 0]\t5.0009\t\t0.0068\n",
      "[1 0 0 1 1]\t4.9997\t\t0.0068\n",
      "[0 1 0 1 1]\t5.0001\t\t0.0068\n",
      "[1 1 0 0 1]\t5.0006\t\t0.0068\n",
      "[1 1 1 1 1]\t45.0010\t\t0.0043\n",
      "[0 0 1 0 0]\t4.9999\t\t0.0040\n",
      "[0 0 0 0 1]\t4.9994\t\t0.0040\n",
      "[0 0 0 1 0]\t4.9996\t\t0.0040\n",
      "[1 0 0 0 0]\t5.0002\t\t0.0040\n",
      "[0 1 0 0 0]\t5.0006\t\t0.0040\n",
      "[1 0 1 1 1]\t19.9999\t\t0.0014\n",
      "[1 1 1 1 0]\t20.0011\t\t0.0014\n",
      "[0 1 1 1 1]\t20.0003\t\t0.0014\n",
      "[1 1 1 0 1]\t20.0008\t\t0.0014\n",
      "[1 1 0 1 1]\t20.0007\t\t0.0014\n"
     ]
    }
   ],
   "source": [
    "# Quantum Portfolio\n",
    "\n",
    "quantum(test1)"
   ]
  },
  {
   "cell_type": "code",
   "execution_count": 8,
   "metadata": {},
   "outputs": [
    {
     "name": "stdout",
     "output_type": "stream",
     "text": [
      "[*********************100%***********************]  2 of 2 completed\n",
      "Expected annual return: 40.6%\n",
      "Annual volatility: 34.8%\n",
      "Sharpe Ratio: 1.11\n"
     ]
    },
    {
     "data": {
      "text/plain": [
       "OrderedDict([('AMZN', 0.56604), ('MSFT', 0.43396)])"
      ]
     },
     "execution_count": 8,
     "metadata": {},
     "output_type": "execute_result"
    }
   ],
   "source": [
    "prices_2 = generate_prices(['MSFT','AMZN'])\n",
    "Max_Sharpe_port(prices_2)"
   ]
  },
  {
   "cell_type": "markdown",
   "metadata": {},
   "source": [
    "# Test 1.B"
   ]
  },
  {
   "cell_type": "code",
   "execution_count": 27,
   "metadata": {},
   "outputs": [
    {
     "name": "stdout",
     "output_type": "stream",
     "text": [
      "[*********************100%***********************]  5 of 5 completed\n",
      "Expected annual return: 16.7%\n",
      "Annual volatility: 18.4%\n",
      "Sharpe Ratio: 0.80\n"
     ]
    },
    {
     "data": {
      "text/plain": [
       "OrderedDict([('JPM', 0.20965),\n",
       "             ('LUV', 0.20761),\n",
       "             ('PFE', 0.19906),\n",
       "             ('UNH', 0.25321),\n",
       "             ('XOM', 0.13047)])"
      ]
     },
     "execution_count": 27,
     "metadata": {},
     "output_type": "execute_result"
    }
   ],
   "source": [
    "test_2 = [\"LUV\", \"XOM\", \"PFE\", \"JPM\", \"UNH\"]\n",
    "prices = generate_prices(test_2)\n",
    "# cov = risk_models.CovarianceShrinkage(prices).ledoit_wolf()\n",
    "# plotting.plot_covariance(cov, plot_correlation=True)\n",
    "Max_Sharpe_port(prices)"
   ]
  },
  {
   "cell_type": "code",
   "execution_count": 33,
   "metadata": {},
   "outputs": [
    {
     "name": "stdout",
     "output_type": "stream",
     "text": [
      "Optimal: selection [0. 0. 0. 1. 1.], value -0.0008\n",
      "\n",
      "----------------- Full result ---------------------\n",
      "selection\tvalue\t\tprobability\n",
      "---------------------------------------------------\n",
      "[0 0 0 1 1]\t-0.0008\t\t0.0891\n",
      "[0 0 1 0 1]\t-0.0006\t\t0.0890\n",
      "[0 0 1 1 0]\t-0.0003\t\t0.0889\n",
      "[1 0 0 0 1]\t-0.0003\t\t0.0889\n",
      "[1 0 0 1 0]\t0.0000\t\t0.0888\n",
      "[0 1 0 0 1]\t0.0002\t\t0.0887\n",
      "[1 0 1 0 0]\t0.0002\t\t0.0887\n",
      "[0 1 0 1 0]\t0.0004\t\t0.0886\n",
      "[0 1 1 0 0]\t0.0007\t\t0.0885\n",
      "[1 1 0 0 0]\t0.0010\t\t0.0884\n",
      "[0 0 0 0 0]\t20.0000\t\t0.0182\n",
      "[0 0 0 0 1]\t4.9994\t\t0.0109\n",
      "[0 0 0 1 0]\t4.9996\t\t0.0109\n",
      "[0 0 1 0 0]\t4.9999\t\t0.0108\n",
      "[1 0 0 0 0]\t5.0002\t\t0.0108\n",
      "[0 1 0 0 0]\t5.0006\t\t0.0107\n",
      "[1 0 1 1 1]\t19.9999\t\t0.0030\n",
      "[1 1 0 1 1]\t20.0007\t\t0.0030\n",
      "[0 1 1 1 1]\t20.0003\t\t0.0030\n",
      "[1 1 1 1 0]\t20.0011\t\t0.0030\n",
      "[1 1 1 0 1]\t20.0008\t\t0.0030\n",
      "[0 1 1 0 1]\t5.0003\t\t0.0025\n",
      "[1 0 1 0 1]\t4.9999\t\t0.0025\n",
      "[1 1 0 1 0]\t5.0009\t\t0.0025\n",
      "[1 1 1 0 0]\t5.0011\t\t0.0025\n",
      "[1 0 1 1 0]\t5.0002\t\t0.0025\n",
      "[0 1 0 1 1]\t5.0001\t\t0.0025\n",
      "[0 1 1 1 0]\t5.0006\t\t0.0025\n",
      "[1 0 0 1 1]\t4.9997\t\t0.0025\n",
      "[0 0 1 1 1]\t4.9993\t\t0.0025\n",
      "[1 1 0 0 1]\t5.0006\t\t0.0025\n",
      "[1 1 1 1 1]\t45.0010\t\t0.0005\n"
     ]
    }
   ],
   "source": [
    "quantum(test_2)"
   ]
  },
  {
   "cell_type": "code",
   "execution_count": 37,
   "metadata": {},
   "outputs": [
    {
     "name": "stdout",
     "output_type": "stream",
     "text": [
      "[*********************100%***********************]  3 of 3 completed\n",
      "Expected annual return: 17.7%\n",
      "Annual volatility: 19.7%\n",
      "Sharpe Ratio: 0.79\n"
     ]
    },
    {
     "data": {
      "text/plain": [
       "OrderedDict([('PFE', 0.32759), ('UNH', 0.43179), ('XOM', 0.24062)])"
      ]
     },
     "execution_count": 37,
     "metadata": {},
     "output_type": "execute_result"
    }
   ],
   "source": [
    "prices = generate_prices(['PFE', 'UNH', \"XOM\"])\n",
    "Max_Sharpe_port(prices)"
   ]
  },
  {
   "cell_type": "markdown",
   "metadata": {},
   "source": [
    "# Test 1.C "
   ]
  },
  {
   "cell_type": "code",
   "execution_count": 30,
   "metadata": {
    "jupyter": {
     "outputs_hidden": false,
     "source_hidden": false
    },
    "nteract": {
     "transient": {
      "deleting": false
     }
    }
   },
   "outputs": [
    {
     "name": "stdout",
     "output_type": "stream",
     "text": [
      "[*********************100%***********************]  5 of 5 completed\n",
      "Expected annual return: 18.9%\n",
      "Annual volatility: 14.5%\n",
      "Sharpe Ratio: 1.17\n"
     ]
    },
    {
     "data": {
      "text/plain": [
       "OrderedDict([('ACN', 0.27102),\n",
       "             ('DIS', 0.08611),\n",
       "             ('F', 0.05369),\n",
       "             ('GILD', 0.16673),\n",
       "             ('TSLA', 0.42245)])"
      ]
     },
     "execution_count": 30,
     "metadata": {},
     "output_type": "execute_result"
    }
   ],
   "source": [
    "# Test 3 \n",
    "\n",
    "test_3 = [\"ACN\", \"DIS\", \"GILD\", \"F\", \"TSLA\"]\n",
    "prices = generate_prices(test_3)\n",
    "cov = risk_models.CovarianceShrinkage(prices).ledoit_wolf()\n",
    "# plotting.plot_covariance(cov, plot_correlation=True)\n",
    "\n",
    "Max_Sharpe_port(prices)"
   ]
  },
  {
   "cell_type": "code",
   "execution_count": 31,
   "metadata": {
    "jupyter": {
     "outputs_hidden": false,
     "source_hidden": false
    },
    "nteract": {
     "transient": {
      "deleting": false
     }
    }
   },
   "outputs": [
    {
     "name": "stdout",
     "output_type": "stream",
     "text": [
      "Optimal: selection [1. 0. 0. 0. 1.], value -0.0003\n",
      "\n",
      "----------------- Full result ---------------------\n",
      "selection\tvalue\t\tprobability\n",
      "---------------------------------------------------\n",
      "[1 0 0 0 1]\t-0.0003\t\t0.0902\n",
      "[0 1 0 0 1]\t0.0002\t\t0.0902\n",
      "[0 0 1 0 1]\t-0.0006\t\t0.0902\n",
      "[1 1 0 0 0]\t0.0010\t\t0.0902\n",
      "[1 0 1 0 0]\t0.0002\t\t0.0902\n",
      "[0 0 0 1 1]\t-0.0008\t\t0.0901\n",
      "[0 1 1 0 0]\t0.0007\t\t0.0901\n",
      "[1 0 0 1 0]\t0.0000\t\t0.0901\n",
      "[0 1 0 1 0]\t0.0004\t\t0.0901\n",
      "[0 0 1 1 0]\t-0.0003\t\t0.0901\n",
      "[0 0 0 0 0]\t20.0000\t\t0.0092\n",
      "[1 1 1 0 1]\t20.0008\t\t0.0087\n",
      "[1 0 1 1 1]\t19.9999\t\t0.0087\n",
      "[1 1 1 1 0]\t20.0011\t\t0.0087\n",
      "[1 1 0 1 1]\t20.0007\t\t0.0087\n",
      "[0 1 1 1 1]\t20.0003\t\t0.0087\n",
      "[1 0 1 0 1]\t4.9999\t\t0.0041\n",
      "[1 1 0 0 1]\t5.0006\t\t0.0041\n",
      "[0 1 1 0 1]\t5.0003\t\t0.0041\n",
      "[1 1 1 0 0]\t5.0011\t\t0.0041\n",
      "[1 0 0 1 1]\t4.9997\t\t0.0041\n",
      "[1 0 1 1 0]\t5.0002\t\t0.0041\n",
      "[0 0 1 1 1]\t4.9993\t\t0.0041\n",
      "[1 1 0 1 0]\t5.0009\t\t0.0041\n",
      "[0 1 0 1 1]\t5.0001\t\t0.0041\n",
      "[0 1 1 1 0]\t5.0006\t\t0.0041\n",
      "[1 1 1 1 1]\t45.0010\t\t0.0022\n",
      "[0 0 0 0 1]\t4.9994\t\t0.0006\n",
      "[1 0 0 0 0]\t5.0002\t\t0.0006\n",
      "[0 0 1 0 0]\t4.9999\t\t0.0005\n",
      "[0 1 0 0 0]\t5.0006\t\t0.0005\n",
      "[0 0 0 1 0]\t4.9996\t\t0.0005\n"
     ]
    }
   ],
   "source": [
    "quantum(test_3)"
   ]
  },
  {
   "cell_type": "code",
   "execution_count": 32,
   "metadata": {
    "jupyter": {
     "outputs_hidden": false,
     "source_hidden": false
    },
    "nteract": {
     "transient": {
      "deleting": false
     }
    }
   },
   "outputs": [
    {
     "name": "stdout",
     "output_type": "stream",
     "text": [
      "[*********************100%***********************]  2 of 2 completed\n",
      "Expected annual return: 22.9%\n",
      "Annual volatility: 27.3%\n",
      "Sharpe Ratio: 0.77\n"
     ]
    },
    {
     "data": {
      "text/plain": [
       "OrderedDict([('ACN', 0.43082), ('TSLA', 0.56918)])"
      ]
     },
     "execution_count": 32,
     "metadata": {},
     "output_type": "execute_result"
    }
   ],
   "source": [
    "prices = generate_prices(['ACN', 'TSLA'])\n",
    "Max_Sharpe_port(prices)"
   ]
  },
  {
   "cell_type": "markdown",
   "metadata": {},
   "source": [
    "# Test 2 - Targeted Portfolios"
   ]
  },
  {
   "cell_type": "code",
   "execution_count": 59,
   "metadata": {
    "jupyter": {
     "outputs_hidden": false,
     "source_hidden": false
    },
    "nteract": {
     "transient": {
      "deleting": false
     }
    }
   },
   "outputs": [
    {
     "name": "stdout",
     "output_type": "stream",
     "text": [
      "[*********************100%***********************]  5 of 5 completed\n",
      "Expected annual return: 27.3%\n",
      "Annual volatility: 11.1%\n",
      "Sharpe Ratio: 2.28\n"
     ]
    },
    {
     "data": {
      "text/plain": [
       "OrderedDict([('AAPL', 0.03878),\n",
       "             ('GRUB', 0.20191),\n",
       "             ('NFLX', 0.06737),\n",
       "             ('PFE', 0.04823),\n",
       "             ('ZM', 0.64371)])"
      ]
     },
     "execution_count": 59,
     "metadata": {},
     "output_type": "execute_result"
    }
   ],
   "source": [
    "COVID= [\"ZM\", \"PFE\", \"NFLX\", \"AAPL\", \"GRUB\"]\n",
    "prices = generate_prices(COVID)\n",
    "# cov = risk_models.CovarianceShrinkage(prices).ledoit_wolf()\n",
    "# plotting.plot_covariance(cov, plot_correlation=True)\n",
    "Max_Sharpe_port(prices)"
   ]
  },
  {
   "cell_type": "code",
   "execution_count": 48,
   "metadata": {
    "jupyter": {
     "outputs_hidden": false,
     "source_hidden": false
    },
    "nteract": {
     "transient": {
      "deleting": false
     }
    }
   },
   "outputs": [
    {
     "name": "stdout",
     "output_type": "stream",
     "text": [
      "Optimal: selection [1. 1. 0. 0. 1.], value 5.0006\n",
      "\n",
      "----------------- Full result ---------------------\n",
      "selection\tvalue\t\tprobability\n",
      "---------------------------------------------------\n",
      "[1 1 0 0 1]\t5.0006\t\t0.0833\n",
      "[0 0 1 1 0]\t-0.0003\t\t0.0833\n",
      "[0 1 0 0 1]\t0.0002\t\t0.0833\n",
      "[1 0 1 1 0]\t5.0002\t\t0.0833\n",
      "[0 0 0 1 1]\t-0.0008\t\t0.0833\n",
      "[0 1 1 0 0]\t0.0007\t\t0.0833\n",
      "[1 1 1 0 0]\t5.0011\t\t0.0833\n",
      "[1 0 0 1 1]\t4.9997\t\t0.0833\n",
      "[0 1 0 1 0]\t0.0004\t\t0.0833\n",
      "[1 1 0 1 0]\t5.0009\t\t0.0833\n",
      "[0 0 1 0 1]\t-0.0006\t\t0.0833\n",
      "[1 0 1 0 1]\t4.9999\t\t0.0833\n",
      "[0 0 0 0 0]\t20.0000\t\t0.0000\n",
      "[1 0 0 0 0]\t5.0002\t\t0.0000\n",
      "[0 1 1 1 1]\t20.0003\t\t0.0000\n",
      "[1 1 1 1 1]\t45.0010\t\t0.0000\n",
      "[1 1 0 1 1]\t20.0007\t\t0.0000\n",
      "[0 1 0 1 1]\t5.0001\t\t0.0000\n",
      "[1 0 1 0 0]\t0.0002\t\t0.0000\n",
      "[0 0 1 0 0]\t4.9999\t\t0.0000\n",
      "[0 1 1 1 0]\t5.0006\t\t0.0000\n",
      "[0 0 0 0 1]\t4.9994\t\t0.0000\n",
      "[1 1 1 1 0]\t20.0011\t\t0.0000\n",
      "[1 0 0 0 1]\t-0.0003\t\t0.0000\n",
      "[1 1 1 0 1]\t20.0008\t\t0.0000\n",
      "[0 1 1 0 1]\t5.0003\t\t0.0000\n",
      "[1 0 0 1 0]\t0.0000\t\t0.0000\n",
      "[0 0 0 1 0]\t4.9996\t\t0.0000\n",
      "[1 0 1 1 1]\t19.9999\t\t0.0000\n",
      "[0 0 1 1 1]\t4.9993\t\t0.0000\n",
      "[0 1 0 0 0]\t5.0006\t\t0.0000\n",
      "[1 1 0 0 0]\t0.0010\t\t0.0000\n"
     ]
    }
   ],
   "source": [
    "quantum(COVID)"
   ]
  },
  {
   "cell_type": "code",
   "execution_count": 58,
   "metadata": {
    "jupyter": {
     "outputs_hidden": false,
     "source_hidden": false
    },
    "nteract": {
     "transient": {
      "deleting": false
     }
    }
   },
   "outputs": [
    {
     "name": "stdout",
     "output_type": "stream",
     "text": [
      "[*********************100%***********************]  2 of 2 completed\n",
      "Expected annual return: 36.3%\n",
      "Annual volatility: 32.3%\n",
      "Sharpe Ratio: 1.07\n"
     ]
    },
    {
     "data": {
      "text/plain": [
       "OrderedDict([('GRUB', 0.32045), ('ZM', 0.67955)])"
      ]
     },
     "execution_count": 58,
     "metadata": {},
     "output_type": "execute_result"
    }
   ],
   "source": [
    "prices = generate_prices([\"GRUB\", 'ZM'])\n",
    "Max_Sharpe_port(prices)"
   ]
  },
  {
   "cell_type": "markdown",
   "metadata": {
    "jupyter": {
     "outputs_hidden": false,
     "source_hidden": false
    },
    "nteract": {
     "transient": {
      "deleting": false
     }
    },
    "scrolled": true
   },
   "source": [
    "# Test 2.B"
   ]
  },
  {
   "cell_type": "code",
   "execution_count": 51,
   "metadata": {
    "jupyter": {
     "outputs_hidden": false,
     "source_hidden": false
    },
    "nteract": {
     "transient": {
      "deleting": false
     }
    },
    "scrolled": true
   },
   "outputs": [
    {
     "name": "stdout",
     "output_type": "stream",
     "text": [
      "[*********************100%***********************]  5 of 5 completed\n",
      "Expected annual return: 29.0%\n",
      "Annual volatility: 21.1%\n",
      "Sharpe Ratio: 1.28\n"
     ]
    },
    {
     "data": {
      "text/plain": [
       "OrderedDict([('AAL', 0.07581),\n",
       "             ('CMG', 0.01817),\n",
       "             ('HLT', 0.0),\n",
       "             ('PYPL', 0.0),\n",
       "             ('UBER', 0.90602)])"
      ]
     },
     "execution_count": 51,
     "metadata": {},
     "output_type": "execute_result"
    }
   ],
   "source": [
    "# Portfolio 2, go Long when hope is shown. Decemeber 14\n",
    "post_COVID = ['UBER', 'AAL', 'HLT', 'CMG', 'PYPL']\n",
    "prices = generate_prices(post_COVID)\n",
    "# cov = risk_models.CovarianceShrinkage(prices).ledoit_wolf()\n",
    "# plotting.plot_covariance(cov, plot_correlation=True)\n",
    "Max_Sharpe_port(prices)"
   ]
  },
  {
   "cell_type": "code",
   "execution_count": 56,
   "metadata": {
    "jupyter": {
     "outputs_hidden": false,
     "source_hidden": false
    },
    "nteract": {
     "transient": {
      "deleting": false
     }
    }
   },
   "outputs": [
    {
     "name": "stdout",
     "output_type": "stream",
     "text": [
      "Optimal: selection [0. 1. 1. 0. 0.], value 0.0026\n",
      "\n",
      "----------------- Full result ---------------------\n",
      "selection\tvalue\t\tprobability\n",
      "---------------------------------------------------\n",
      "[0 1 1 0 0]\t0.0026\t\t0.0743\n",
      "[1 1 0 0 0]\t0.0022\t\t0.0742\n",
      "[0 1 0 1 0]\t0.0006\t\t0.0738\n",
      "[0 1 0 0 1]\t0.0004\t\t0.0738\n",
      "[1 0 1 0 0]\t-0.0002\t\t0.0737\n",
      "[1 0 0 1 0]\t-0.0016\t\t0.0734\n",
      "[0 0 1 1 0]\t-0.0017\t\t0.0734\n",
      "[1 0 0 0 1]\t-0.0019\t\t0.0733\n",
      "[0 0 1 0 1]\t-0.0019\t\t0.0733\n",
      "[0 0 0 1 1]\t-0.0032\t\t0.0731\n",
      "[0 1 0 0 0]\t5.0020\t\t0.0214\n",
      "[0 0 1 0 0]\t4.9997\t\t0.0212\n",
      "[1 0 0 0 0]\t4.9995\t\t0.0211\n",
      "[0 0 0 1 0]\t4.9983\t\t0.0210\n",
      "[0 0 0 0 1]\t4.9981\t\t0.0210\n",
      "[1 1 1 0 0]\t5.0034\t\t0.0141\n",
      "[1 1 0 1 0]\t5.0014\t\t0.0140\n",
      "[0 1 1 1 0]\t5.0015\t\t0.0140\n",
      "[1 1 0 0 1]\t5.0011\t\t0.0140\n",
      "[0 1 1 0 1]\t5.0012\t\t0.0140\n",
      "[1 0 1 1 0]\t4.9991\t\t0.0139\n",
      "[0 1 0 1 1]\t4.9994\t\t0.0139\n",
      "[1 0 1 0 1]\t4.9987\t\t0.0139\n",
      "[1 0 0 1 1]\t4.9974\t\t0.0138\n",
      "[0 0 1 1 1]\t4.9971\t\t0.0138\n",
      "[1 1 1 1 1]\t45.0026\t\t0.0087\n",
      "[0 0 0 0 0]\t20.0000\t\t0.0043\n",
      "[1 0 1 1 1]\t19.9984\t\t0.0012\n",
      "[0 1 1 1 1]\t20.0006\t\t0.0011\n",
      "[1 1 0 1 1]\t20.0008\t\t0.0011\n",
      "[1 1 1 0 1]\t20.0026\t\t0.0011\n",
      "[1 1 1 1 0]\t20.0030\t\t0.0011\n"
     ]
    }
   ],
   "source": [
    "data = YahooDataProvider(tickers = post_COVID,\n",
    "                     start=datetime.datetime(2019,6,15),\n",
    "                     end=datetime.datetime(2020, 12, 23))\n",
    "data.run()\n",
    "\n",
    "num_assets = 5\n",
    "\n",
    "mu = data.get_period_return_mean_vector()\n",
    "sigma = data.get_period_return_covariance_matrix()\n",
    "q = 0.5                   # set risk factor\n",
    "budget = num_assets // 2  # set budget\n",
    "penalty = num_assets      # set parameter to scale the budget penalty term\n",
    "\n",
    "qubitOp, offset = portfolio.get_operator(mu, sigma, q, budget, penalty)\n",
    "\n",
    "backend = Aer.get_backend('statevector_simulator')\n",
    "seed = 50\n",
    "\n",
    "cobyla = COBYLA()\n",
    "cobyla.set_options(maxiter=250)\n",
    "qaoa = QAOA(qubitOp, cobyla, 3)\n",
    "\n",
    "qaoa.random_seed = seed\n",
    "\n",
    "quantum_instance = QuantumInstance(backend=backend, seed_simulator=seed, seed_transpiler=seed)\n",
    "\n",
    "result = qaoa.run(quantum_instance)\n",
    "\n",
    "print_result(result)"
   ]
  },
  {
   "cell_type": "code",
   "execution_count": 57,
   "metadata": {
    "jupyter": {
     "outputs_hidden": false,
     "source_hidden": false
    },
    "nteract": {
     "transient": {
      "deleting": false
     }
    }
   },
   "outputs": [
    {
     "name": "stdout",
     "output_type": "stream",
     "text": [
      "[*********************100%***********************]  2 of 2 completed\n",
      "Expected annual return: 41.0%\n",
      "Annual volatility: 21.3%\n",
      "Sharpe Ratio: 1.83\n"
     ]
    },
    {
     "data": {
      "text/plain": [
       "OrderedDict([('CMG', 0.06532), ('UBER', 0.93468)])"
      ]
     },
     "execution_count": 57,
     "metadata": {},
     "output_type": "execute_result"
    }
   ],
   "source": [
    "post_COVID2 = ['UBER', 'CMG']\n",
    "prices = generate_prices(post_COVID2)\n",
    "Max_Sharpe_port(prices)"
   ]
  },
  {
   "cell_type": "code",
   "execution_count": null,
   "metadata": {
    "jupyter": {
     "outputs_hidden": false,
     "source_hidden": false
    },
    "nteract": {
     "transient": {
      "deleting": false
     }
    }
   },
   "outputs": [],
   "source": []
  },
  {
   "cell_type": "code",
   "execution_count": null,
   "metadata": {
    "collapsed": true,
    "jupyter": {
     "outputs_hidden": false,
     "source_hidden": false
    },
    "nteract": {
     "transient": {
      "deleting": false
     }
    }
   },
   "outputs": [],
   "source": [
    "get_ipython().system('pip install alpaca-trade-api')\n",
    "\n",
    "import alpaca_trade_api as tradeapi\n",
    "# from alpaca_trade_api.rest import TimeFrame\n",
    "# import pandas as pd\n",
    "\n",
    "APCA_API_KEY_ID = ''\n",
    "APCA_API_SECRET_KEY = ''\n",
    "APCA_API_BASE_URL = 'https://paper-api.alpaca.markets'\n",
    "\n",
    "# Setting up API and account details\n",
    "api = tradeapi.REST(\n",
    "    APCA_API_KEY_ID,\n",
    "    APCA_API_SECRET_KEY,\n",
    "    base_url=APCA_API_BASE_URL,\n",
    "    api_version='v2')\n",
    "\n",
    "def market_order_from_list(orderList):\n",
    "    \"\"\"\n",
    "    Creates live market buy orders which expire at end of the day from a list of tuples in the form:\n",
    "    orderList = [('AAPL', '10'), ('JPM', '5')]\n",
    "    \"\"\"\n",
    "    for ticker, amount in orderList:\n",
    "        api.submit_order(\n",
    "            symbol=f'{ticker}',\n",
    "            side='buy',\n",
    "            type='market',\n",
    "            qty=f'{amount}',\n",
    "            # TODO: Do some calculation to get max amount under some percentage of current cash\n",
    "            time_in_force='day'\n",
    "        )\n",
    "\n",
    "market_order_from_list(orderList)\n",
    "\n",
    "api.list_orders()\n",
    "api.cancel_all_orders()\n"
   ]
  }
 ],
 "metadata": {
  "kernelspec": {
   "display_name": "Python 3",
   "language": "python",
   "name": "python3"
  },
  "language_info": {
   "codemirror_mode": {
    "name": "ipython",
    "version": 3
   },
   "file_extension": ".py",
   "mimetype": "text/x-python",
   "name": "python",
   "nbconvert_exporter": "python",
   "pygments_lexer": "ipython3",
   "version": "3.7.10"
  }
 },
 "nbformat": 4,
 "nbformat_minor": 1
}
