{
 "cells": [
  {
   "cell_type": "code",
   "execution_count": 3,
   "metadata": {
    "jupyter": {
     "outputs_hidden": false,
     "source_hidden": false
    },
    "nteract": {
     "transient": {
      "deleting": false
     }
    }
   },
   "outputs": [],
   "source": [
    "get_ipython().system('pip install yfinance')\n",
    "get_ipython().system('pip install PyPortfolioOpt')\n",
    "get_ipython().system('pip install cvxopt')\n",
    "get_ipython().system('pip install cvxpy')\n",
    "get_ipython().system('pip install matplotlib')\n",
    "get_ipython().system('pip install sklearn')\n",
    "import pypfopt\n",
    "import yfinance as yf\n",
    "import matplotlib.pyplot as plt\n",
    "import pandas as pd\n",
    "import numpy as np\n",
    "from pypfopt import risk_models\n",
    "from pypfopt import plotting\n",
    "from pypfopt import expected_returns\n",
    "from pypfopt import EfficientFrontier\n",
    "from pypfopt import DiscreteAllocation\n",
    "from pypfopt import objective_functions\n",
    "from pypfopt import DiscreteAllocation\n",
    "get_ipython().system('pip install qiskit')\n",
    "get_ipython().run_line_magic('matplotlib', 'inline')\n",
    "from qiskit.finance import QiskitFinanceError\n",
    "from qiskit.finance.data_providers import *\n",
    "import warnings\n",
    "warnings.filterwarnings(\"ignore\", category=DeprecationWarning)\n",
    "import datetime\n",
    "import matplotlib.pyplot as plt\n",
    "from pandas.plotting import register_matplotlib_converters\n",
    "register_matplotlib_converters()\n",
    "\n",
    "from qiskit import Aer\n",
    "from qiskit.circuit.library import TwoLocal\n",
    "from qiskit.aqua import QuantumInstance\n",
    "from qiskit.finance.applications.ising import portfolio\n",
    "from qiskit.optimization.applications.ising.common import sample_most_likely\n",
    "from qiskit.finance.data_providers import RandomDataProvider\n",
    "from qiskit.aqua.algorithms import VQE, QAOA, NumPyMinimumEigensolver\n",
    "from qiskit.aqua.components.optimizers import COBYLA\n",
    "import numpy as np\n",
    "import matplotlib.pyplot as plt\n",
    "import datetime"
   ]
  },
  {
   "cell_type": "code",
   "execution_count": 146,
   "metadata": {
    "jupyter": {
     "outputs_hidden": false,
     "source_hidden": false
    },
    "nteract": {
     "transient": {
      "deleting": false
     }
    }
   },
   "outputs": [],
   "source": [
    "def returns(prices):\n",
    "    mu = expected_returns.capm_return(prices)\n",
    "    return mu\n",
    "\n",
    "def min_variance(prices):\n",
    "    # Long/Short Min Variance Portfolio\n",
    "    S = risk_models.CovarianceShrinkage(prices).ledoit_wolf()\n",
    "    ef = EfficientFrontier(None, S, weight_bounds=(None, None))\n",
    "    ef.min_volatility()\n",
    "    weights = ef.clean_weights()\n",
    "    ef.portfolio_performance(verbose=True);\n",
    "    return(weights)\n",
    "\n",
    "def Max_Sharpe_port(prices):\n",
    "    # Max Sharpe Portfolio\n",
    "    mu = returns(prices)\n",
    "    S = risk_models.CovarianceShrinkage(prices).ledoit_wolf()\n",
    "    ef = EfficientFrontier(mu, S) \n",
    "    ef.max_sharpe()\n",
    "    weights = ef.clean_weights()\n",
    "    ef.portfolio_performance(verbose=True)\n",
    "    return weights\n",
    "\n",
    "risk = 0.15\n",
    "def return_given_risk(prices):\n",
    "    mu = returns(prices)\n",
    "    S = risk_models.CovarianceShrinkage(prices).ledoit_wolf()\n",
    "    ef = EfficientFrontier(mu, S)\n",
    "    ef.add_objective(objective_functions.L2_reg)  # gamme is the tuning parameter\n",
    "    ef.efficient_risk(0.15)\n",
    "    weights = ef.clean_weights()\n",
    "    ef.portfolio_performance(verbose=True)\n",
    "    return weights\n",
    "\n",
    "def minimize_risk(prices):\n",
    "    mu = returns(prices)\n",
    "    S = risk_models.CovarianceShrinkage(prices).ledoit_wolf()\n",
    "    ef = EfficientFrontier(mu, S, weight_bounds=(None, None))\n",
    "    ef.add_objective(objective_functions.L2_reg)\n",
    "    ef.efficient_return(target_return=0.07, market_neutral=True)\n",
    "    weights = ef.clean_weights()\n",
    "    ef.portfolio_performance(verbose=True);\n",
    "    return weights\n",
    "\n",
    "def generate_prices(tickers):\n",
    "    tickers = tickers \n",
    "    ohlc = yf.download(tickers, end=\"2020-03-23\")\n",
    "    prices = ohlc[\"Adj Close\"].dropna(how=\"all\")\n",
    "    return(prices)\n",
    "\n",
    "def index_to_selection(i, num_assets):\n",
    "    s = \"{0:b}\".format(i).rjust(num_assets)\n",
    "    x = np.array([1 if s[i]=='1' else 0 for i in reversed(range(num_assets))])\n",
    "    return x\n",
    "\n",
    "def print_result(result):\n",
    "    selection = sample_most_likely(result.eigenstate)\n",
    "    value = portfolio.portfolio_value(selection, mu, sigma, q, budget, penalty)\n",
    "    print('Optimal: selection {}, value {:.4f}'.format(selection, value))\n",
    "\n",
    "    eigenvector = result.eigenstate if isinstance(result.eigenstate, np.ndarray) else result.eigenstate.to_matrix()\n",
    "    probabilities = np.abs(eigenvector)**2\n",
    "    i_sorted = reversed(np.argsort(probabilities))\n",
    "    print('\\n----------------- Full result ---------------------')\n",
    "    print('selection\\tvalue\\t\\tprobability')\n",
    "    print('---------------------------------------------------')\n",
    "    for i in i_sorted:\n",
    "        x = index_to_selection(i, num_assets)\n",
    "        value = portfolio.portfolio_value(x, mu, sigma, q, budget, penalty)\n",
    "        probability = probabilities[i]\n",
    "        print('%10s\\t%.4f\\t\\t%.4f' %(x, value, probability))\n",
    "\n",
    "# Discrete Allocation\n",
    "# latest_prices = prices.iloc[-1]  # prices as of the day you are allocating\n",
    "# da = DiscreteAllocation(weights, latest_prices, total_portfolio_value=20000, short_ratio=0.3)\n",
    "# alloc, leftover = da.lp_portfolio()\n",
    "# print(f\"Discrete allocation performed with ${leftover:.2f} leftover\")\n",
    "# alloc\n",
    "\n",
    "# VQE Backend - Shitty Results , erratic convergence pattern\n",
    "# backend = Aer.get_backend('statevector_simulator')\n",
    "# seed = 50\n",
    "\n",
    "# cobyla = COBYLA()\n",
    "# cobyla.set_options(maxiter=500)\n",
    "# ry = TwoLocal(qubitOp.num_qubits, 'ry', 'cz', reps=3, entanglement='full')\n",
    "# vqe = VQE(qubitOp, ry, cobyla)\n",
    "# vqe.random_seed = seed\n",
    "\n",
    "# quantum_instance = QuantumInstance(backend=backend, seed_simulator=seed, seed_transpiler=seed)\n",
    "\n",
    "# result = vqe.run(quantum_instance)\n",
    "\n",
    "# print_result(result)\n",
    "\n",
    "def quantum(tickers):\n",
    "    data = YahooDataProvider(\n",
    "                     tickers = tickers,\n",
    "    #                  start=datetime.datetime(2015,3,23),\n",
    "                     end=datetime.datetime(2020, 3, 23))\n",
    "    data.run()\n",
    "\n",
    "    num_assets = len(tickers)\n",
    "\n",
    "    mu = data.get_period_return_mean_vector()\n",
    "    sigma = data.get_period_return_covariance_matrix()\n",
    "\n",
    "    q = 0.5                   # set risk factor\n",
    "    budget = num_assets // 2  # set budget\n",
    "    penalty = num_assets      # set parameter to scale the budget penalty term\n",
    "\n",
    "    qubitOp, offset = portfolio.get_operator(mu, sigma, q, budget, penalty)\n",
    "\n",
    "    backend = Aer.get_backend('statevector_simulator')\n",
    "    seed = 50\n",
    "\n",
    "    cobyla = COBYLA()\n",
    "    cobyla.set_options(maxiter=250)\n",
    "    qaoa = QAOA(qubitOp, cobyla, 3)\n",
    "\n",
    "    qaoa.random_seed = seed\n",
    "\n",
    "    quantum_instance = QuantumInstance(backend=backend, seed_simulator=seed, seed_transpiler=seed)\n",
    "\n",
    "    result = qaoa.run(quantum_instance)\n",
    "\n",
    "    print_result(result)"
   ]
  },
  {
   "cell_type": "code",
   "execution_count": null,
   "metadata": {},
   "outputs": [],
   "source": [
    "# sorted by top AUM\n",
    "\n",
    "tech = ['QQQ', 'VGT', 'XLK', 'ARKK', 'FDN'] \n",
    "healthcare = ['XLV', 'VHT','IBB','ARKG','IHI']\n",
    "financials = ['XLF', 'VFH', 'KRE', 'KBE', 'FAS']\n",
    "real_estate = ['VNQ', 'SCHH', 'VNQI', 'IYR', 'REET']\n",
    "energy = ['XLE', 'ICLN', 'AMLP', 'VDE', 'XOP']\n",
    "materials = ['GDX', 'XLB', 'GDXJ', 'GUNR', 'VAW']\n",
    "consumer = ['XLY', 'XLC', 'VCR', 'PEJ', 'FXD']\n",
    "industrials = ['XLI', 'VIS', 'JETS', 'ITA', 'IYT']\n",
    "telecom = ['VOX', 'NXTG', 'FCOM', 'IYZ', 'IXP']\n",
    "consumer_staples = ['XLP', 'VDC', 'IEV', 'FSTA', 'IYK']\n",
    "utilities = ['XLU', 'VPU', 'IGF', 'NFRA', 'PAVE']\n",
    "\n",
    "all_industries = [\"MSFT\", \"AMZN\", \"KO\", \"MA\", \"COST\",\n",
    "           \"LUV\", \"XOM\", \"PFE\", \"JPM\", \"UNH\", \n",
    "           \"ACN\", \"DIS\", \"GILD\", \"F\", \"TSLA\"]"
   ]
  },
  {
   "cell_type": "markdown",
   "metadata": {},
   "source": [
    "## Test 1: Cross-Industry Portfolios"
   ]
  },
  {
   "cell_type": "code",
   "execution_count": 155,
   "metadata": {},
   "outputs": [
    {
     "name": "stdout",
     "output_type": "stream",
     "text": [
      "[*********************100%***********************]  5 of 5 completed\n",
      "Expected annual return: 23.2%\n",
      "Annual volatility: 15.1%\n",
      "Sharpe Ratio: 1.41\n"
     ]
    },
    {
     "data": {
      "text/plain": [
       "OrderedDict([('AMZN', 0.20923),\n",
       "             ('COST', 0.11975),\n",
       "             ('KO', 0.11957),\n",
       "             ('MA', 0.46735),\n",
       "             ('MSFT', 0.0841)])"
      ]
     },
     "execution_count": 155,
     "metadata": {},
     "output_type": "execute_result"
    }
   ],
   "source": [
    "# Test 1 \n",
    "\n",
    "# Classical Portfolio\n",
    "test1 = [\"MSFT\", \"AMZN\", \"KO\", \"MA\", \"COST\"]\n",
    "prices = generate_prices(test1)\n",
    "# cov = risk_models.CovarianceShrinkage(prices).ledoit_wolf()\n",
    "# plotting.plot_covariance(cov, plot_correlation=True)\n",
    "Max_Sharpe_port(prices)"
   ]
  },
  {
   "cell_type": "code",
   "execution_count": 151,
   "metadata": {},
   "outputs": [
    {
     "name": "stdout",
     "output_type": "stream",
     "text": [
      "Optimal: selection [1. 1. 0. 0. 0.], value -0.0017\n",
      "\n",
      "----------------- Full result ---------------------\n",
      "selection\tvalue\t\tprobability\n",
      "---------------------------------------------------\n",
      "[1 1 0 0 0]\t-0.0017\t\t0.0968\n",
      "[0 1 0 1 0]\t-0.0016\t\t0.0967\n",
      "[0 1 0 0 1]\t-0.0016\t\t0.0967\n",
      "[1 0 0 1 0]\t-0.0015\t\t0.0967\n",
      "[1 0 0 0 1]\t-0.0015\t\t0.0966\n",
      "[0 0 0 1 1]\t-0.0013\t\t0.0966\n",
      "[0 1 1 0 0]\t-0.0010\t\t0.0964\n",
      "[1 0 1 0 0]\t-0.0009\t\t0.0963\n",
      "[0 0 1 1 0]\t-0.0007\t\t0.0962\n",
      "[0 0 1 0 1]\t-0.0006\t\t0.0961\n",
      "[0 1 0 0 0]\t4.9990\t\t0.0034\n",
      "[0 0 0 0 1]\t4.9994\t\t0.0034\n",
      "[1 0 0 0 0]\t4.9991\t\t0.0034\n",
      "[0 0 0 1 0]\t4.9992\t\t0.0034\n",
      "[0 0 1 0 0]\t5.0000\t\t0.0034\n",
      "[0 1 1 0 1]\t4.9985\t\t0.0015\n",
      "[0 0 1 1 1]\t4.9988\t\t0.0015\n",
      "[1 0 1 0 1]\t4.9986\t\t0.0015\n",
      "[0 1 1 1 0]\t4.9985\t\t0.0015\n",
      "[1 1 1 0 0]\t4.9984\t\t0.0015\n",
      "[1 0 1 1 0]\t4.9986\t\t0.0015\n",
      "[0 1 0 1 1]\t4.9979\t\t0.0015\n",
      "[1 1 0 0 1]\t4.9978\t\t0.0015\n",
      "[1 0 0 1 1]\t4.9980\t\t0.0015\n",
      "[1 1 0 1 0]\t4.9979\t\t0.0015\n",
      "[0 0 0 0 0]\t20.0000\t\t0.0012\n",
      "[1 0 1 1 1]\t19.9982\t\t0.0004\n",
      "[1 1 1 1 0]\t19.9980\t\t0.0004\n",
      "[0 1 1 1 1]\t19.9981\t\t0.0004\n",
      "[1 1 1 0 1]\t19.9980\t\t0.0004\n",
      "[1 1 0 1 1]\t19.9975\t\t0.0004\n",
      "[1 1 1 1 1]\t44.9978\t\t0.0000\n"
     ]
    }
   ],
   "source": [
    "# Quantum Portfolio\n",
    "quantum(test1)"
   ]
  },
  {
   "cell_type": "code",
   "execution_count": 152,
   "metadata": {},
   "outputs": [
    {
     "name": "stdout",
     "output_type": "stream",
     "text": [
      "[*********************100%***********************]  2 of 2 completed\n",
      "Expected annual return: 40.6%\n",
      "Annual volatility: 34.8%\n",
      "Sharpe Ratio: 1.11\n"
     ]
    },
    {
     "data": {
      "text/plain": [
       "OrderedDict([('AMZN', 0.56604), ('MSFT', 0.43396)])"
      ]
     },
     "execution_count": 152,
     "metadata": {},
     "output_type": "execute_result"
    }
   ],
   "source": [
    "prices_2 = generate_prices(['MSFT','AMZN'])\n",
    "Max_Sharpe_port(prices_2)"
   ]
  },
  {
   "cell_type": "markdown",
   "metadata": {},
   "source": [
    "# Test 1.B"
   ]
  },
  {
   "cell_type": "code",
   "execution_count": 160,
   "metadata": {},
   "outputs": [
    {
     "name": "stdout",
     "output_type": "stream",
     "text": [
      "[*********************100%***********************]  5 of 5 completed\n",
      "Expected annual return: 16.7%\n",
      "Annual volatility: 18.4%\n",
      "Sharpe Ratio: 0.80\n"
     ]
    },
    {
     "data": {
      "text/plain": [
       "OrderedDict([('JPM', 0.20965),\n",
       "             ('LUV', 0.20761),\n",
       "             ('PFE', 0.19906),\n",
       "             ('UNH', 0.25321),\n",
       "             ('XOM', 0.13047)])"
      ]
     },
     "execution_count": 160,
     "metadata": {},
     "output_type": "execute_result"
    }
   ],
   "source": [
    "test_2 = [\"LUV\", \"XOM\", \"PFE\", \"JPM\", \"UNH\"]\n",
    "prices = generate_prices(test_2)\n",
    "# cov = risk_models.CovarianceShrinkage(prices).ledoit_wolf()\n",
    "# plotting.plot_covariance(cov, plot_correlation=True)\n",
    "Max_Sharpe_port(prices)"
   ]
  },
  {
   "cell_type": "code",
   "execution_count": 161,
   "metadata": {},
   "outputs": [
    {
     "name": "stdout",
     "output_type": "stream",
     "text": [
      "Optimal: selection [0. 0. 1. 1. 1.], value 4.9988\n",
      "\n",
      "----------------- Full result ---------------------\n",
      "selection\tvalue\t\tprobability\n",
      "---------------------------------------------------\n",
      "[0 0 1 1 1]\t4.9988\t\t0.0734\n",
      "[1 0 0 1 1]\t4.9980\t\t0.0733\n",
      "[1 0 1 0 1]\t4.9986\t\t0.0733\n",
      "[0 1 0 1 1]\t4.9979\t\t0.0733\n",
      "[1 0 1 1 0]\t4.9986\t\t0.0733\n",
      "[0 1 1 0 1]\t4.9985\t\t0.0732\n",
      "[0 1 1 1 0]\t4.9985\t\t0.0732\n",
      "[1 1 0 0 1]\t4.9978\t\t0.0732\n",
      "[1 1 0 1 0]\t4.9979\t\t0.0731\n",
      "[1 1 1 0 0]\t4.9984\t\t0.0731\n",
      "[0 0 1 0 1]\t-0.0006\t\t0.0222\n",
      "[0 0 0 1 1]\t-0.0013\t\t0.0222\n",
      "[0 0 1 1 0]\t-0.0007\t\t0.0222\n",
      "[1 0 0 0 1]\t-0.0015\t\t0.0222\n",
      "[1 0 0 1 0]\t-0.0015\t\t0.0222\n",
      "[0 1 0 0 1]\t-0.0016\t\t0.0222\n",
      "[1 0 1 0 0]\t-0.0009\t\t0.0222\n",
      "[0 1 0 1 0]\t-0.0016\t\t0.0222\n",
      "[0 1 1 0 0]\t-0.0010\t\t0.0222\n",
      "[1 1 0 0 0]\t-0.0017\t\t0.0222\n",
      "[1 0 1 1 1]\t19.9982\t\t0.0084\n",
      "[0 1 1 1 1]\t19.9981\t\t0.0084\n",
      "[1 1 0 1 1]\t19.9975\t\t0.0084\n",
      "[1 1 1 0 1]\t19.9980\t\t0.0084\n",
      "[1 1 1 1 0]\t19.9980\t\t0.0084\n",
      "[0 0 0 0 0]\t20.0000\t\t0.0021\n",
      "[1 1 1 1 1]\t44.9978\t\t0.0010\n",
      "[0 0 0 0 1]\t4.9994\t\t0.0001\n",
      "[0 0 1 0 0]\t5.0000\t\t0.0001\n",
      "[0 0 0 1 0]\t4.9992\t\t0.0001\n",
      "[1 0 0 0 0]\t4.9991\t\t0.0001\n",
      "[0 1 0 0 0]\t4.9990\t\t0.0001\n"
     ]
    }
   ],
   "source": [
    "quantum(test_2)"
   ]
  },
  {
   "cell_type": "code",
   "execution_count": 164,
   "metadata": {},
   "outputs": [
    {
     "name": "stdout",
     "output_type": "stream",
     "text": [
      "[*********************100%***********************]  3 of 3 completed\n",
      "Expected annual return: 17.7%\n",
      "Annual volatility: 19.7%\n",
      "Sharpe Ratio: 0.79\n"
     ]
    },
    {
     "data": {
      "text/plain": [
       "OrderedDict([('PFE', 0.32759), ('UNH', 0.43179), ('XOM', 0.24062)])"
      ]
     },
     "execution_count": 164,
     "metadata": {},
     "output_type": "execute_result"
    }
   ],
   "source": [
    "prices = generate_prices(['PFE', 'UNH', 'XOM'])\n",
    "Max_Sharpe_port(prices)"
   ]
  },
  {
   "cell_type": "markdown",
   "metadata": {},
   "source": [
    "# Test 1.C "
   ]
  },
  {
   "cell_type": "code",
   "execution_count": 169,
   "metadata": {
    "jupyter": {
     "outputs_hidden": false,
     "source_hidden": false
    },
    "nteract": {
     "transient": {
      "deleting": false
     }
    }
   },
   "outputs": [
    {
     "name": "stdout",
     "output_type": "stream",
     "text": [
      "[*********************100%***********************]  5 of 5 completed\n",
      "Expected annual return: 18.9%\n",
      "Annual volatility: 14.5%\n",
      "Sharpe Ratio: 1.17\n"
     ]
    },
    {
     "data": {
      "text/plain": [
       "OrderedDict([('ACN', 0.27102),\n",
       "             ('DIS', 0.08611),\n",
       "             ('F', 0.05369),\n",
       "             ('GILD', 0.16673),\n",
       "             ('TSLA', 0.42245)])"
      ]
     },
     "execution_count": 169,
     "metadata": {},
     "output_type": "execute_result"
    }
   ],
   "source": [
    "# Test 3 \n",
    "\n",
    "test_3 = [\"ACN\", \"DIS\", \"GILD\", \"F\", \"TSLA\"]\n",
    "prices = generate_prices(test_3)\n",
    "cov = risk_models.CovarianceShrinkage(prices).ledoit_wolf()\n",
    "# plotting.plot_covariance(cov, plot_correlation=True)\n",
    "\n",
    "Max_Sharpe_port(prices)"
   ]
  },
  {
   "cell_type": "code",
   "execution_count": 170,
   "metadata": {
    "jupyter": {
     "outputs_hidden": false,
     "source_hidden": false
    },
    "nteract": {
     "transient": {
      "deleting": false
     }
    }
   },
   "outputs": [
    {
     "name": "stdout",
     "output_type": "stream",
     "text": [
      "Optimal: selection [1. 0. 0. 0. 1.], value -0.0015\n",
      "\n",
      "----------------- Full result ---------------------\n",
      "selection\tvalue\t\tprobability\n",
      "---------------------------------------------------\n",
      "[1 0 0 0 1]\t-0.0015\t\t0.0820\n",
      "[0 1 0 0 1]\t-0.0016\t\t0.0819\n",
      "[0 0 1 0 1]\t-0.0006\t\t0.0819\n",
      "[1 1 0 0 0]\t-0.0017\t\t0.0818\n",
      "[1 0 1 0 0]\t-0.0009\t\t0.0818\n",
      "[0 1 1 0 0]\t-0.0010\t\t0.0816\n",
      "[0 0 0 1 1]\t-0.0013\t\t0.0816\n",
      "[1 0 0 1 0]\t-0.0015\t\t0.0816\n",
      "[0 1 0 1 0]\t-0.0016\t\t0.0814\n",
      "[0 0 1 1 0]\t-0.0007\t\t0.0814\n",
      "[1 0 1 0 1]\t4.9986\t\t0.0130\n",
      "[1 1 0 0 1]\t4.9978\t\t0.0130\n",
      "[0 1 1 0 1]\t4.9985\t\t0.0129\n",
      "[1 1 1 0 0]\t4.9984\t\t0.0129\n",
      "[1 0 0 1 1]\t4.9980\t\t0.0129\n",
      "[0 0 1 1 1]\t4.9988\t\t0.0128\n",
      "[1 0 1 1 0]\t4.9986\t\t0.0128\n",
      "[0 1 0 1 1]\t4.9979\t\t0.0128\n",
      "[1 1 0 1 0]\t4.9979\t\t0.0128\n",
      "[0 1 1 1 0]\t4.9985\t\t0.0127\n",
      "[0 0 0 0 1]\t4.9994\t\t0.0077\n",
      "[1 0 0 0 0]\t4.9991\t\t0.0077\n",
      "[0 1 0 0 0]\t4.9990\t\t0.0076\n",
      "[0 0 1 0 0]\t5.0000\t\t0.0076\n",
      "[0 0 0 1 0]\t4.9992\t\t0.0076\n",
      "[1 1 1 1 1]\t44.9978\t\t0.0047\n",
      "[0 1 1 1 1]\t19.9981\t\t0.0020\n",
      "[1 1 0 1 1]\t19.9975\t\t0.0020\n",
      "[1 1 1 1 0]\t19.9980\t\t0.0019\n",
      "[1 0 1 1 1]\t19.9982\t\t0.0019\n",
      "[1 1 1 0 1]\t19.9980\t\t0.0019\n",
      "[0 0 0 0 0]\t20.0000\t\t0.0016\n"
     ]
    }
   ],
   "source": [
    "quantum(test_3)"
   ]
  },
  {
   "cell_type": "code",
   "execution_count": 171,
   "metadata": {
    "jupyter": {
     "outputs_hidden": false,
     "source_hidden": false
    },
    "nteract": {
     "transient": {
      "deleting": false
     }
    }
   },
   "outputs": [
    {
     "name": "stdout",
     "output_type": "stream",
     "text": [
      "[*********************100%***********************]  2 of 2 completed\n",
      "Expected annual return: 22.9%\n",
      "Annual volatility: 27.3%\n",
      "Sharpe Ratio: 0.77\n"
     ]
    },
    {
     "data": {
      "text/plain": [
       "OrderedDict([('ACN', 0.43082), ('TSLA', 0.56918)])"
      ]
     },
     "execution_count": 171,
     "metadata": {},
     "output_type": "execute_result"
    }
   ],
   "source": [
    "prices = generate_prices(['ACN', 'TSLA'])\n",
    "Max_Sharpe_port(prices)"
   ]
  },
  {
   "cell_type": "code",
   "execution_count": null,
   "metadata": {
    "collapsed": true,
    "jupyter": {
     "outputs_hidden": false,
     "source_hidden": false
    },
    "nteract": {
     "transient": {
      "deleting": false
     }
    }
   },
   "outputs": [],
   "source": [
    "COVID= [\"ZOOM\", \"PFE\", \"NFLX\", \"\" ]"
   ]
  },
  {
   "cell_type": "code",
   "execution_count": null,
   "metadata": {
    "collapsed": true,
    "jupyter": {
     "outputs_hidden": false,
     "source_hidden": false
    },
    "nteract": {
     "transient": {
      "deleting": false
     }
    }
   },
   "outputs": [],
   "source": []
  },
  {
   "cell_type": "code",
   "execution_count": null,
   "metadata": {
    "jupyter": {
     "outputs_hidden": false,
     "source_hidden": false
    },
    "nteract": {
     "transient": {
      "deleting": false
     }
    }
   },
   "outputs": [],
   "source": []
  },
  {
   "cell_type": "code",
   "execution_count": 137,
   "metadata": {
    "jupyter": {
     "outputs_hidden": false,
     "source_hidden": false
    },
    "nteract": {
     "transient": {
      "deleting": false
     }
    },
    "scrolled": true
   },
   "outputs": [],
   "source": []
  },
  {
   "cell_type": "code",
   "execution_count": null,
   "metadata": {
    "jupyter": {
     "outputs_hidden": false,
     "source_hidden": false
    },
    "nteract": {
     "transient": {
      "deleting": false
     }
    },
    "scrolled": true
   },
   "outputs": [],
   "source": []
  },
  {
   "cell_type": "code",
   "execution_count": null,
   "metadata": {
    "jupyter": {
     "outputs_hidden": false,
     "source_hidden": false
    },
    "nteract": {
     "transient": {
      "deleting": false
     }
    }
   },
   "outputs": [],
   "source": []
  },
  {
   "cell_type": "code",
   "execution_count": null,
   "metadata": {
    "jupyter": {
     "outputs_hidden": false,
     "source_hidden": false
    },
    "nteract": {
     "transient": {
      "deleting": false
     }
    }
   },
   "outputs": [],
   "source": []
  },
  {
   "cell_type": "code",
   "execution_count": null,
   "metadata": {
    "jupyter": {
     "outputs_hidden": false,
     "source_hidden": false
    },
    "nteract": {
     "transient": {
      "deleting": false
     }
    }
   },
   "outputs": [],
   "source": []
  },
  {
   "cell_type": "code",
   "execution_count": null,
   "metadata": {
    "collapsed": true,
    "jupyter": {
     "outputs_hidden": false,
     "source_hidden": false
    },
    "nteract": {
     "transient": {
      "deleting": false
     }
    }
   },
   "outputs": [],
   "source": [
    "get_ipython().system('pip install alpaca-trade-api')\n",
    "\n",
    "import alpaca_trade_api as tradeapi\n",
    "# from alpaca_trade_api.rest import TimeFrame\n",
    "# import pandas as pd\n",
    "\n",
    "APCA_API_KEY_ID = ''\n",
    "APCA_API_SECRET_KEY = ''\n",
    "APCA_API_BASE_URL = 'https://paper-api.alpaca.markets'\n",
    "\n",
    "# Setting up API and account details\n",
    "api = tradeapi.REST(\n",
    "    APCA_API_KEY_ID,\n",
    "    APCA_API_SECRET_KEY,\n",
    "    base_url=APCA_API_BASE_URL,\n",
    "    api_version='v2')\n",
    "\n",
    "def market_order_from_list(orderList):\n",
    "    \"\"\"\n",
    "    Creates live market buy orders which expire at end of the day from a list of tuples in the form:\n",
    "    orderList = [('AAPL', '10'), ('JPM', '5')]\n",
    "    \"\"\"\n",
    "    for ticker, amount in orderList:\n",
    "        api.submit_order(\n",
    "            symbol=f'{ticker}',\n",
    "            side='buy',\n",
    "            type='market',\n",
    "            qty=f'{amount}',\n",
    "            # TODO: Do some calculation to get max amount under some percentage of current cash\n",
    "            time_in_force='day'\n",
    "        )\n",
    "\n",
    "market_order_from_list(orderList)\n",
    "\n",
    "api.list_orders()\n",
    "api.cancel_all_orders()\n"
   ]
  }
 ],
 "metadata": {
  "kernelspec": {
   "display_name": "Python 3",
   "language": "python",
   "name": "python3"
  },
  "language_info": {
   "codemirror_mode": {
    "name": "ipython",
    "version": 3
   },
   "file_extension": ".py",
   "mimetype": "text/x-python",
   "name": "python",
   "nbconvert_exporter": "python",
   "pygments_lexer": "ipython3",
   "version": "3.7.10"
  }
 },
 "nbformat": 4,
 "nbformat_minor": 1
}
