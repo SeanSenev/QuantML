{
  "cells": [
    {
      "cell_type": "code",
      "source": [
        "get_ipython().system('pip install yfinance')\n",
        "get_ipython().system('pip install PyPortfolioOpt')\n",
        "get_ipython().system('pip install cvxopt')\n",
        "get_ipython().system('pip install cvxpy')\n",
        "get_ipython().system('pip install matplotlib')\n",
        "get_ipython().system('pip install sklearn')\n",
        "import pypfopt\n",
        "import yfinance as yf\n",
        "import matplotlib.pyplot as plt\n",
        "import pandas as pd\n",
        "import numpy as np\n",
        "from pypfopt import risk_models\n",
        "from pypfopt import plotting\n",
        "from pypfopt import EfficientFrontier\n",
        "from pypfopt import DiscreteAllocation\n",
        "get_ipython().system('pip install qiskit')\n",
        "get_ipython().run_line_magic('matplotlib', 'inline')\n",
        "from qiskit.finance import QiskitFinanceError\n",
        "from qiskit.finance.data_providers import *\n",
        "import warnings\n",
        "warnings.filterwarnings(\"ignore\", category=DeprecationWarning)\n",
        "import datetime\n",
        "import matplotlib.pyplot as plt\n",
        "from pandas.plotting import register_matplotlib_converters\n",
        "register_matplotlib_converters()\n",
        "\n",
        "from qiskit import Aer\n",
        "from qiskit.circuit.library import TwoLocal\n",
        "from qiskit.aqua import QuantumInstance\n",
        "from qiskit.finance.applications.ising import portfolio\n",
        "from qiskit.optimization.applications.ising.common import sample_most_likely\n",
        "from qiskit.finance.data_providers import RandomDataProvider\n",
        "from qiskit.aqua.algorithms import VQE, QAOA, NumPyMinimumEigensolver\n",
        "from qiskit.aqua.components.optimizers import COBYLA\n",
        "import numpy as np\n",
        "import matplotlib.pyplot as plt\n",
        "import datetime"
      ],
      "outputs": [],
      "execution_count": null,
      "metadata": {
        "collapsed": true,
        "jupyter": {
          "source_hidden": false,
          "outputs_hidden": false
        },
        "nteract": {
          "transient": {
            "deleting": false
          }
        }
      }
    },
    {
      "cell_type": "code",
      "source": [
        "def covariance(prices):\n",
        "    sample_cov = risk_models.sample_cov(prices, frequency=252)\n",
        "    plotting.plot_covariance(sample_cov, plot_correlation=True)\n",
        "    return sample_cov\n",
        "\n",
        "from pypfopt import expected_returns\n",
        "def returns(prices):\n",
        "    mu = expected_returns.capm_return(prices)\n",
        "    return mu\n",
        "\n",
        "def min_variance(prices):\n",
        "    S = risk_models.CovarianceShrinkage(prices).ledoit_wolf()\n",
        "    ef = EfficientFrontier(None, S, weight_bounds=(None, None))\n",
        "    ef.min_volatility()\n",
        "    weights = ef.clean_weights()\n",
        "    ef.portfolio_performance(verbose=True);\n",
        "    return(weights)\n",
        "\n",
        "def Max_Sharpe_port(prices):\n",
        "    mu = returns(prices)\n",
        "    S = covariance(prices)\n",
        "    ef = EfficientFrontier(mu, S) \n",
        "    ef.max_sharpe()\n",
        "    weights = ef.clean_weights()\n",
        "    pd.Series(weights).plot.pie(figsize=(10,10));\n",
        "    return weights\n",
        "\n",
        "from pypfopt import objective_functions\n",
        "risk = 0.15\n",
        "def return_given_risk(prices, risk):\n",
        "    mu = returns(prices)\n",
        "    S = risk_models.sample_cov(prices)\n",
        "    ef = EfficientFrontier(mu, S)\n",
        "    ef.add_objective(objective_functions.L2_reg)  # gamme is the tuning parameter\n",
        "    ef.efficient_risk(0.15)\n",
        "    weights = ef.clean_weights()\n",
        "    return weights\n",
        "\n",
        "\n",
        "def minimize_risk(prices):\n",
        "    mu = returns(prices)\n",
        "    S = covariance(prices)\n",
        "    ef = EfficientFrontier(mu, S, weight_bounds=(None, None))\n",
        "    ef.add_objective(objective_functions.L2_reg)\n",
        "    ef.efficient_return(target_return=0.07, market_neutral=True)\n",
        "    weights = ef.clean_weights()\n",
        "    ef.portfolio_performance(verbose=True);\n",
        "    return weights"
      ],
      "outputs": [],
      "execution_count": null,
      "metadata": {
        "collapsed": true,
        "jupyter": {
          "source_hidden": false,
          "outputs_hidden": false
        },
        "nteract": {
          "transient": {
            "deleting": false
          }
        }
      }
    },
    {
      "cell_type": "code",
      "source": [
        "# sorted by top AUM\n",
        "\n",
        "tech = ['QQQ', 'VGT', 'XLK', 'ARKK', 'FDN'] \n",
        "healthcare = ['XLV', 'VHT','IBB','ARKG','IHI']\n",
        "financials = ['XLF', 'VFH', 'KRE', 'KBE', 'FAS']\n",
        "real_estate = ['VNQ', 'SCHH', 'VNQI', 'IYR', 'REET']\n",
        "energy = ['XLE', 'ICLN', 'AMLP', 'VDE', 'XOP']\n",
        "materials = ['GDX', 'XLB', 'GDXJ', 'GUNR', 'VAW']\n",
        "consumer = ['XLY', 'XLC', 'VCR', 'PEJ', 'FXD']\n",
        "industrials = ['XLI', 'VIS', 'JETS', 'ITA', 'IYT']\n",
        "telecom = ['VOX', 'NXTG', 'FCOM', 'IYZ', 'IXP']\n",
        "consumer_staples = ['XLP', 'VDC', 'IEV', 'FSTA', 'IYK']\n",
        "utilities = ['XLU', 'VPU', 'IGF', 'NFRA', 'PAVE']\n",
        "\n",
        "all_industries = ['QQQ', 'XLV', 'XLF', 'VNQ', 'XLE', 'GDX', 'XLY', 'XLI', 'VOX', 'XLP', 'XLU']"
      ],
      "outputs": [],
      "execution_count": null,
      "metadata": {
        "collapsed": true,
        "jupyter": {
          "source_hidden": false,
          "outputs_hidden": false
        },
        "nteract": {
          "transient": {
            "deleting": false
          }
        }
      }
    },
    {
      "cell_type": "code",
      "source": [
        "tickers = all_industries\n",
        "ohlc = yf.download(tickers, period=\"max\")\n",
        "prices = ohlc[\"Adj Close\"].dropna(how=\"all\")"
      ],
      "outputs": [],
      "execution_count": null,
      "metadata": {
        "collapsed": true,
        "jupyter": {
          "source_hidden": false,
          "outputs_hidden": false
        },
        "nteract": {
          "transient": {
            "deleting": false
          }
        }
      }
    },
    {
      "cell_type": "code",
      "source": [
        "# Long/Short Min Variance\n",
        "S = risk_models.CovarianceShrinkage(prices).ledoit_wolf()\n",
        "ef = EfficientFrontier(None, S, weight_bounds=(None, None))\n",
        "ef.min_volatility()\n",
        "weights = ef.clean_weights()\n",
        "ef.portfolio_performance(verbose=True);\n",
        "weights"
      ],
      "outputs": [],
      "execution_count": null,
      "metadata": {
        "collapsed": true,
        "jupyter": {
          "source_hidden": false,
          "outputs_hidden": false
        },
        "nteract": {
          "transient": {
            "deleting": false
          }
        }
      }
    },
    {
      "cell_type": "code",
      "source": [
        "# Max Sharpe with Sector Constraints\n",
        "\n",
        "mu = returns(prices)\n",
        "S = risk_models.CovarianceShrinkage(prices).ledoit_wolf()\n",
        "\n",
        "ef = EfficientFrontier(mu, S)  # weight_bounds automatically set to (0, 1)\n",
        "ef.max_sharpe()\n",
        "weights = ef.clean_weights()\n",
        "\n",
        "ef.portfolio_performance(verbose=True)\n",
        "weights"
      ],
      "outputs": [],
      "execution_count": null,
      "metadata": {
        "collapsed": true,
        "jupyter": {
          "source_hidden": false,
          "outputs_hidden": false
        },
        "nteract": {
          "transient": {
            "deleting": false
          }
        }
      }
    },
    {
      "cell_type": "code",
      "source": [
        "from pypfopt import DiscreteAllocation\n",
        "\n",
        "latest_prices = prices.iloc[-1]  # prices as of the day you are allocating\n",
        "da = DiscreteAllocation(weights, latest_prices, total_portfolio_value=20000, short_ratio=0.3)\n",
        "alloc, leftover = da.lp_portfolio()\n",
        "print(f\"Discrete allocation performed with ${leftover:.2f} leftover\")\n",
        "alloc"
      ],
      "outputs": [],
      "execution_count": null,
      "metadata": {
        "collapsed": true,
        "jupyter": {
          "source_hidden": false,
          "outputs_hidden": false
        },
        "nteract": {
          "transient": {
            "deleting": false
          }
        }
      }
    },
    {
      "cell_type": "code",
      "source": [],
      "outputs": [],
      "execution_count": null,
      "metadata": {
        "collapsed": true,
        "jupyter": {
          "source_hidden": false,
          "outputs_hidden": false
        },
        "nteract": {
          "transient": {
            "deleting": false
          }
        }
      }
    },
    {
      "cell_type": "code",
      "source": [
        "data = YahooDataProvider(\n",
        "                 tickers = [\"AEO\", \"ABBY\", \"AEP\", \"AAL\"],\n",
        "                 start=datetime.datetime(2018, 1, 1),\n",
        "                 end=datetime.datetime(2018, 12, 31))\n",
        "data.run()\n",
        "\n",
        "num_assets = 4\n",
        "\n",
        "mu = data.get_period_return_mean_vector()\n",
        "sigma = data.get_period_return_covariance_matrix()\n",
        "\n",
        "q = 0.5                   # set risk factor\n",
        "budget = num_assets // 2  # set budget\n",
        "penalty = num_assets      # set parameter to scale the budget penalty term\n",
        "\n",
        "qubitOp, offset = portfolio.get_operator(mu, sigma, q, budget, penalty)"
      ],
      "outputs": [],
      "execution_count": null,
      "metadata": {
        "collapsed": true,
        "jupyter": {
          "source_hidden": false,
          "outputs_hidden": false
        },
        "nteract": {
          "transient": {
            "deleting": false
          }
        }
      }
    },
    {
      "cell_type": "code",
      "source": [
        "def index_to_selection(i, num_assets):\n",
        "    s = \"{0:b}\".format(i).rjust(num_assets)\n",
        "    x = np.array([1 if s[i]=='1' else 0 for i in reversed(range(num_assets))])\n",
        "    return x\n",
        "\n",
        "def print_result(result):\n",
        "    selection = sample_most_likely(result.eigenstate)\n",
        "    value = portfolio.portfolio_value(selection, mu, sigma, q, budget, penalty)\n",
        "    print('Optimal: selection {}, value {:.4f}'.format(selection, value))\n",
        "\n",
        "    eigenvector = result.eigenstate if isinstance(result.eigenstate, np.ndarray) else result.eigenstate.to_matrix()\n",
        "    probabilities = np.abs(eigenvector)**2\n",
        "    i_sorted = reversed(np.argsort(probabilities))\n",
        "    print('\\n----------------- Full result ---------------------')\n",
        "    print('selection\\tvalue\\t\\tprobability')\n",
        "    print('---------------------------------------------------')\n",
        "    for i in i_sorted:\n",
        "        x = index_to_selection(i, num_assets)\n",
        "        value = portfolio.portfolio_value(x, mu, sigma, q, budget, penalty)\n",
        "        probability = probabilities[i]\n",
        "        print('%10s\\t%.4f\\t\\t%.4f' %(x, value, probability))\n"
      ],
      "outputs": [],
      "execution_count": null,
      "metadata": {
        "collapsed": true,
        "jupyter": {
          "source_hidden": false,
          "outputs_hidden": false
        },
        "nteract": {
          "transient": {
            "deleting": false
          }
        }
      }
    },
    {
      "cell_type": "code",
      "source": [
        "exact_eigensolver = NumPyMinimumEigensolver(qubitOp)\n",
        "result = exact_eigensolver.run()\n",
        "\n",
        "print_result(result)"
      ],
      "outputs": [],
      "execution_count": null,
      "metadata": {
        "collapsed": true,
        "jupyter": {
          "source_hidden": false,
          "outputs_hidden": false
        },
        "nteract": {
          "transient": {
            "deleting": false
          }
        }
      }
    },
    {
      "cell_type": "code",
      "source": [
        "backend = Aer.get_backend('statevector_simulator')\n",
        "seed = 50\n",
        "\n",
        "cobyla = COBYLA()\n",
        "cobyla.set_options(maxiter=500)\n",
        "ry = TwoLocal(qubitOp.num_qubits, 'ry', 'cz', reps=3, entanglement='full')\n",
        "vqe = VQE(qubitOp, ry, cobyla)\n",
        "vqe.random_seed = seed\n",
        "\n",
        "quantum_instance = QuantumInstance(backend=backend, seed_simulator=seed, seed_transpiler=seed)\n",
        "\n",
        "result = vqe.run(quantum_instance)\n",
        "\n",
        "print_result(result)"
      ],
      "outputs": [],
      "execution_count": null,
      "metadata": {
        "collapsed": true,
        "jupyter": {
          "source_hidden": false,
          "outputs_hidden": false
        },
        "nteract": {
          "transient": {
            "deleting": false
          }
        }
      }
    },
    {
      "cell_type": "code",
      "source": [
        "backend = Aer.get_backend('statevector_simulator')\n",
        "seed = 50\n",
        "\n",
        "cobyla = COBYLA()\n",
        "cobyla.set_options(maxiter=250)\n",
        "qaoa = QAOA(qubitOp, cobyla, 3)\n",
        "\n",
        "qaoa.random_seed = seed\n",
        "\n",
        "quantum_instance = QuantumInstance(backend=backend, seed_simulator=seed, seed_transpiler=seed)\n",
        "\n",
        "result = qaoa.run(quantum_instance)\n",
        "\n",
        "print_result(result)"
      ],
      "outputs": [],
      "execution_count": null,
      "metadata": {
        "collapsed": true,
        "jupyter": {
          "source_hidden": false,
          "outputs_hidden": false
        },
        "nteract": {
          "transient": {
            "deleting": false
          }
        }
      }
    },
    {
      "cell_type": "code",
      "source": [
        "get_ipython().system('pip install alpaca-trade-api')\n",
        "\n",
        "import alpaca_trade_api as tradeapi\n",
        "# from alpaca_trade_api.rest import TimeFrame\n",
        "# import pandas as pd\n",
        "\n",
        "APCA_API_KEY_ID = ''\n",
        "APCA_API_SECRET_KEY = ''\n",
        "APCA_API_BASE_URL = 'https://paper-api.alpaca.markets'\n",
        "\n",
        "# Setting up API and account details\n",
        "api = tradeapi.REST(\n",
        "    APCA_API_KEY_ID,\n",
        "    APCA_API_SECRET_KEY,\n",
        "    base_url=APCA_API_BASE_URL,\n",
        "    api_version='v2')\n",
        "\n",
        "def market_order_from_list(orderList):\n",
        "    \"\"\"\n",
        "    Creates live market buy orders which expire at end of the day from a list of tuples in the form:\n",
        "    orderList = [('AAPL', '10'), ('JPM', '5')]\n",
        "    \"\"\"\n",
        "    for ticker, amount in orderList:\n",
        "        api.submit_order(\n",
        "            symbol=f'{ticker}',\n",
        "            side='buy',\n",
        "            type='market',\n",
        "            qty=f'{amount}',\n",
        "            # TODO: Do some calculation to get max amount under some percentage of current cash\n",
        "            time_in_force='day'\n",
        "        )\n",
        "\n",
        "market_order_from_list(orderList)\n",
        "\n",
        "api.list_orders()\n",
        "api.cancel_all_orders()\n"
      ],
      "outputs": [],
      "execution_count": null,
      "metadata": {
        "collapsed": true,
        "jupyter": {
          "source_hidden": false,
          "outputs_hidden": false
        },
        "nteract": {
          "transient": {
            "deleting": false
          }
        }
      }
    }
  ],
  "metadata": {},
  "nbformat": 4,
  "nbformat_minor": 0
}